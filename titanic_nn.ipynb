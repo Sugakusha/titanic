{
  "nbformat": 4,
  "nbformat_minor": 0,
  "metadata": {
    "kernelspec": {
      "display_name": "Python 3",
      "language": "python",
      "name": "python3"
    },
    "language_info": {
      "codemirror_mode": {
        "name": "ipython",
        "version": 3
      },
      "file_extension": ".py",
      "mimetype": "text/x-python",
      "name": "python",
      "nbconvert_exporter": "python",
      "pygments_lexer": "ipython3",
      "version": "3.7.1"
    },
    "colab": {
      "name": "titanic.ipynb",
      "provenance": [],
      "collapsed_sections": []
    }
  },
  "cells": [
    {
      "cell_type": "code",
      "metadata": {
        "_cell_guid": "b1076dfc-b9ad-4769-8c92-a6c4dae69d19",
        "_uuid": "8f2839f25d086af736a60e9eeb907d3b93b6e0e5",
        "id": "xwdSo418kZgG",
        "colab_type": "code",
        "colab": {}
      },
      "source": [
        "import numpy as np\n",
        "import pandas as pd \n",
        "import matplotlib.pyplot as plt\n",
        "import seaborn as sns\n",
        "import collections\n",
        "import itertools\n",
        "import functools\n",
        "import re\n",
        "import warnings\n",
        "from sklearn.preprocessing import LabelEncoder, OneHotEncoder\n",
        "from sklearn.linear_model import LogisticRegression\n",
        "from sklearn.model_selection import KFold, GridSearchCV, RandomizedSearchCV, train_test_split\n",
        "from sklearn.ensemble import RandomForestClassifier\n",
        "from sklearn.metrics import classification_report\n",
        "from sklearn.pipeline import Pipeline\n",
        "from sklearn.base import BaseEstimator, TransformerMixin, ClassifierMixin\n",
        "import pprint\n",
        "\n",
        "pd.set_option('display.max_columns', None)\n",
        "warnings.filterwarnings('ignore')"
      ],
      "execution_count": 0,
      "outputs": []
    },
    {
      "cell_type": "code",
      "metadata": {
        "_cell_guid": "79c7e3d0-c299-4dcb-8224-4455121ee9b0",
        "_uuid": "d629ff2d2480ee46fbb7e2d37f6b5fab8052498a",
        "id": "9Vo1jiptkZgd",
        "colab_type": "code",
        "colab": {}
      },
      "source": [
        "train = pd.read_csv('train.csv')\n",
        "test = pd.read_csv('test.csv')"
      ],
      "execution_count": 0,
      "outputs": []
    },
    {
      "cell_type": "code",
      "metadata": {
        "id": "NnYpZRtNkZgy",
        "colab_type": "code",
        "colab": {
          "base_uri": "https://localhost:8080/",
          "height": 279
        },
        "outputId": "77b61c50-fed0-417a-db57-29f0eba0ef68"
      },
      "source": [
        "sns.countplot(train.Survived);"
      ],
      "execution_count": 3,
      "outputs": [
        {
          "output_type": "display_data",
          "data": {
            "image/png": "[encoded data removed]",
            "text/plain": [
              "<Figure size 432x288 with 1 Axes>"
            ]
          },
          "metadata": {
            "tags": []
          }
        }
      ]
    },
    {
      "cell_type": "code",
      "metadata": {
        "id": "hXG90GMykZhF",
        "colab_type": "code",
        "colab": {
          "base_uri": "https://localhost:8080/",
          "height": 35
        },
        "outputId": "552ec449-0444-4600-f4f1-4c919a862e3d"
      },
      "source": [
        "train.shape, test.shape"
      ],
      "execution_count": 4,
      "outputs": [
        {
          "output_type": "execute_result",
          "data": {
            "text/plain": [
              "((891, 12), (418, 11))"
            ]
          },
          "metadata": {
            "tags": []
          },
          "execution_count": 4
        }
      ]
    },
    {
      "cell_type": "code",
      "metadata": {
        "id": "ZAyx573-kZhT",
        "colab_type": "code",
        "colab": {
          "base_uri": "https://localhost:8080/",
          "height": 269
        },
        "outputId": "601b6758-003c-4b97-e8c1-1514acf3afae"
      },
      "source": [
        "train.groupby(['Pclass', 'Survived'])['Fare'].agg(['max', 'min', 'median', 'mean', 'count'])\n",
        "#средняя и максимум цена билета выжившего больше"
      ],
      "execution_count": 5,
      "outputs": [
        {
          "output_type": "execute_result",
          "data": {
            "text/html": [
              "<div>\n",
              "<style scoped>\n",
              "    .dataframe tbody tr th:only-of-type {\n",
              "        vertical-align: middle;\n",
              "    }\n",
              "\n",
              "    .dataframe tbody tr th {\n",
              "        vertical-align: top;\n",
              "    }\n",
              "\n",
              "    .dataframe thead th {\n",
              "        text-align: right;\n",
              "    }\n",
              "</style>\n",
              "<table border=\"1\" class=\"dataframe\">\n",
              "  <thead>\n",
              "    <tr style=\"text-align: right;\">\n",
              "      <th></th>\n",
              "      <th></th>\n",
              "      <th>max</th>\n",
              "      <th>min</th>\n",
              "      <th>median</th>\n",
              "      <th>mean</th>\n",
              "      <th>count</th>\n",
              "    </tr>\n",
              "    <tr>\n",
              "      <th>Pclass</th>\n",
              "      <th>Survived</th>\n",
              "      <th></th>\n",
              "      <th></th>\n",
              "      <th></th>\n",
              "      <th></th>\n",
              "      <th></th>\n",
              "    </tr>\n",
              "  </thead>\n",
              "  <tbody>\n",
              "    <tr>\n",
              "      <th rowspan=\"2\" valign=\"top\">1</th>\n",
              "      <th>0</th>\n",
              "      <td>263.0000</td>\n",
              "      <td>0.0000</td>\n",
              "      <td>44.7500</td>\n",
              "      <td>64.684008</td>\n",
              "      <td>80</td>\n",
              "    </tr>\n",
              "    <tr>\n",
              "      <th>1</th>\n",
              "      <td>512.3292</td>\n",
              "      <td>25.9292</td>\n",
              "      <td>77.9583</td>\n",
              "      <td>95.608029</td>\n",
              "      <td>136</td>\n",
              "    </tr>\n",
              "    <tr>\n",
              "      <th rowspan=\"2\" valign=\"top\">2</th>\n",
              "      <th>0</th>\n",
              "      <td>73.5000</td>\n",
              "      <td>0.0000</td>\n",
              "      <td>13.0000</td>\n",
              "      <td>19.412328</td>\n",
              "      <td>97</td>\n",
              "    </tr>\n",
              "    <tr>\n",
              "      <th>1</th>\n",
              "      <td>65.0000</td>\n",
              "      <td>10.5000</td>\n",
              "      <td>21.0000</td>\n",
              "      <td>22.055700</td>\n",
              "      <td>87</td>\n",
              "    </tr>\n",
              "    <tr>\n",
              "      <th rowspan=\"2\" valign=\"top\">3</th>\n",
              "      <th>0</th>\n",
              "      <td>69.5500</td>\n",
              "      <td>0.0000</td>\n",
              "      <td>8.0500</td>\n",
              "      <td>13.669364</td>\n",
              "      <td>372</td>\n",
              "    </tr>\n",
              "    <tr>\n",
              "      <th>1</th>\n",
              "      <td>56.4958</td>\n",
              "      <td>0.0000</td>\n",
              "      <td>8.5167</td>\n",
              "      <td>13.694887</td>\n",
              "      <td>119</td>\n",
              "    </tr>\n",
              "  </tbody>\n",
              "</table>\n",
              "</div>"
            ],
            "text/plain": [
              "                      max      min   median       mean  count\n",
              "Pclass Survived                                              \n",
              "1      0         263.0000   0.0000  44.7500  64.684008     80\n",
              "       1         512.3292  25.9292  77.9583  95.608029    136\n",
              "2      0          73.5000   0.0000  13.0000  19.412328     97\n",
              "       1          65.0000  10.5000  21.0000  22.055700     87\n",
              "3      0          69.5500   0.0000   8.0500  13.669364    372\n",
              "       1          56.4958   0.0000   8.5167  13.694887    119"
            ]
          },
          "metadata": {
            "tags": []
          },
          "execution_count": 5
        }
      ]
    },
    {
      "cell_type": "code",
      "metadata": {
        "id": "7E9rFZMOkZhj",
        "colab_type": "code",
        "colab": {
          "base_uri": "https://localhost:8080/",
          "height": 196
        },
        "outputId": "66b087ee-373a-4225-80a9-04c49f5970a5"
      },
      "source": [
        "train.head(3)"
      ],
      "execution_count": 6,
      "outputs": [
        {
          "output_type": "execute_result",
          "data": {
            "text/html": [
              "<div>\n",
              "<style scoped>\n",
              "    .dataframe tbody tr th:only-of-type {\n",
              "        vertical-align: middle;\n",
              "    }\n",
              "\n",
              "    .dataframe tbody tr th {\n",
              "        vertical-align: top;\n",
              "    }\n",
              "\n",
              "    .dataframe thead th {\n",
              "        text-align: right;\n",
              "    }\n",
              "</style>\n",
              "<table border=\"1\" class=\"dataframe\">\n",
              "  <thead>\n",
              "    <tr style=\"text-align: right;\">\n",
              "      <th></th>\n",
              "      <th>PassengerId</th>\n",
              "      <th>Survived</th>\n",
              "      <th>Pclass</th>\n",
              "      <th>Name</th>\n",
              "      <th>Sex</th>\n",
              "      <th>Age</th>\n",
              "      <th>SibSp</th>\n",
              "      <th>Parch</th>\n",
              "      <th>Ticket</th>\n",
              "      <th>Fare</th>\n",
              "      <th>Cabin</th>\n",
              "      <th>Embarked</th>\n",
              "    </tr>\n",
              "  </thead>\n",
              "  <tbody>\n",
              "    <tr>\n",
              "      <th>0</th>\n",
              "      <td>1</td>\n",
              "      <td>0</td>\n",
              "      <td>3</td>\n",
              "      <td>Braund, Mr. Owen Harris</td>\n",
              "      <td>male</td>\n",
              "      <td>22.0</td>\n",
              "      <td>1</td>\n",
              "      <td>0</td>\n",
              "      <td>A/5 21171</td>\n",
              "      <td>7.2500</td>\n",
              "      <td>NaN</td>\n",
              "      <td>S</td>\n",
              "    </tr>\n",
              "    <tr>\n",
              "      <th>1</th>\n",
              "      <td>2</td>\n",
              "      <td>1</td>\n",
              "      <td>1</td>\n",
              "      <td>Cumings, Mrs. John Bradley (Florence Briggs Th...</td>\n",
              "      <td>female</td>\n",
              "      <td>38.0</td>\n",
              "      <td>1</td>\n",
              "      <td>0</td>\n",
              "      <td>PC 17599</td>\n",
              "      <td>71.2833</td>\n",
              "      <td>C85</td>\n",
              "      <td>C</td>\n",
              "    </tr>\n",
              "    <tr>\n",
              "      <th>2</th>\n",
              "      <td>3</td>\n",
              "      <td>1</td>\n",
              "      <td>3</td>\n",
              "      <td>Heikkinen, Miss. Laina</td>\n",
              "      <td>female</td>\n",
              "      <td>26.0</td>\n",
              "      <td>0</td>\n",
              "      <td>0</td>\n",
              "      <td>STON/O2. 3101282</td>\n",
              "      <td>7.9250</td>\n",
              "      <td>NaN</td>\n",
              "      <td>S</td>\n",
              "    </tr>\n",
              "  </tbody>\n",
              "</table>\n",
              "</div>"
            ],
            "text/plain": [
              "   PassengerId  Survived  Pclass  \\\n",
              "0            1         0       3   \n",
              "1            2         1       1   \n",
              "2            3         1       3   \n",
              "\n",
              "                                                Name     Sex   Age  SibSp  \\\n",
              "0                            Braund, Mr. Owen Harris    male  22.0      1   \n",
              "1  Cumings, Mrs. John Bradley (Florence Briggs Th...  female  38.0      1   \n",
              "2                             Heikkinen, Miss. Laina  female  26.0      0   \n",
              "\n",
              "   Parch            Ticket     Fare Cabin Embarked  \n",
              "0      0         A/5 21171   7.2500   NaN        S  \n",
              "1      0          PC 17599  71.2833   C85        C  \n",
              "2      0  STON/O2. 3101282   7.9250   NaN        S  "
            ]
          },
          "metadata": {
            "tags": []
          },
          "execution_count": 6
        }
      ]
    },
    {
      "cell_type": "code",
      "metadata": {
        "id": "WOhJIJaNkZh5",
        "colab_type": "code",
        "colab": {
          "base_uri": "https://localhost:8080/",
          "height": 54
        },
        "outputId": "1f8c5fb7-e35c-4e59-a8dc-f417c31b07d4"
      },
      "source": [
        "train.Embarked.unique(), test.Embarked.unique()"
      ],
      "execution_count": 7,
      "outputs": [
        {
          "output_type": "execute_result",
          "data": {
            "text/plain": [
              "(array(['S', 'C', 'Q', nan], dtype=object),\n",
              " array(['Q', 'S', 'C'], dtype=object))"
            ]
          },
          "metadata": {
            "tags": []
          },
          "execution_count": 7
        }
      ]
    },
    {
      "cell_type": "code",
      "metadata": {
        "id": "uclyPdnwkZiH",
        "colab_type": "code",
        "colab": {}
      },
      "source": [
        "train['cabin_is_none'] = train.Cabin.isnull().astype('int32') \n",
        "test['cabin_is_none'] = test.Cabin.isnull().astype('int32') "
      ],
      "execution_count": 0,
      "outputs": []
    },
    {
      "cell_type": "code",
      "metadata": {
        "id": "19u8swMjkZiT",
        "colab_type": "code",
        "colab": {
          "base_uri": "https://localhost:8080/",
          "height": 274
        },
        "outputId": "9ddc52eb-9001-4bef-ac8a-4398150dbbb1"
      },
      "source": [
        "print('ПРОПУСКИ: \\n column: train - test')\n",
        "cols = train.drop('Survived', axis = 1).columns\n",
        "for col, tr, ts in zip(cols, train[cols].isnull().sum(), test.isnull().sum()):\n",
        "    print(f'{col}: {tr} - {ts}')"
      ],
      "execution_count": 9,
      "outputs": [
        {
          "output_type": "stream",
          "text": [
            "ПРОПУСКИ: \n",
            " column: train - test\n",
            "PassengerId: 0 - 0\n",
            "Pclass: 0 - 0\n",
            "Name: 0 - 0\n",
            "Sex: 0 - 0\n",
            "Age: 177 - 86\n",
            "SibSp: 0 - 0\n",
            "Parch: 0 - 0\n",
            "Ticket: 0 - 0\n",
            "Fare: 0 - 1\n",
            "Cabin: 687 - 327\n",
            "Embarked: 2 - 0\n",
            "cabin_is_none: 0 - 0\n"
          ],
          "name": "stdout"
        }
      ]
    },
    {
      "cell_type": "code",
      "metadata": {
        "id": "hOx_n7RvkZif",
        "colab_type": "code",
        "colab": {
          "base_uri": "https://localhost:8080/",
          "height": 199
        },
        "outputId": "454627e4-03b3-4f79-edc7-1211341c42aa"
      },
      "source": [
        "train[train.Embarked.isnull()]"
      ],
      "execution_count": 10,
      "outputs": [
        {
          "output_type": "execute_result",
          "data": {
            "text/html": [
              "<div>\n",
              "<style scoped>\n",
              "    .dataframe tbody tr th:only-of-type {\n",
              "        vertical-align: middle;\n",
              "    }\n",
              "\n",
              "    .dataframe tbody tr th {\n",
              "        vertical-align: top;\n",
              "    }\n",
              "\n",
              "    .dataframe thead th {\n",
              "        text-align: right;\n",
              "    }\n",
              "</style>\n",
              "<table border=\"1\" class=\"dataframe\">\n",
              "  <thead>\n",
              "    <tr style=\"text-align: right;\">\n",
              "      <th></th>\n",
              "      <th>PassengerId</th>\n",
              "      <th>Survived</th>\n",
              "      <th>Pclass</th>\n",
              "      <th>Name</th>\n",
              "      <th>Sex</th>\n",
              "      <th>Age</th>\n",
              "      <th>SibSp</th>\n",
              "      <th>Parch</th>\n",
              "      <th>Ticket</th>\n",
              "      <th>Fare</th>\n",
              "      <th>Cabin</th>\n",
              "      <th>Embarked</th>\n",
              "      <th>cabin_is_none</th>\n",
              "    </tr>\n",
              "  </thead>\n",
              "  <tbody>\n",
              "    <tr>\n",
              "      <th>61</th>\n",
              "      <td>62</td>\n",
              "      <td>1</td>\n",
              "      <td>1</td>\n",
              "      <td>Icard, Miss. Amelie</td>\n",
              "      <td>female</td>\n",
              "      <td>38.0</td>\n",
              "      <td>0</td>\n",
              "      <td>0</td>\n",
              "      <td>113572</td>\n",
              "      <td>80.0</td>\n",
              "      <td>B28</td>\n",
              "      <td>NaN</td>\n",
              "      <td>0</td>\n",
              "    </tr>\n",
              "    <tr>\n",
              "      <th>829</th>\n",
              "      <td>830</td>\n",
              "      <td>1</td>\n",
              "      <td>1</td>\n",
              "      <td>Stone, Mrs. George Nelson (Martha Evelyn)</td>\n",
              "      <td>female</td>\n",
              "      <td>62.0</td>\n",
              "      <td>0</td>\n",
              "      <td>0</td>\n",
              "      <td>113572</td>\n",
              "      <td>80.0</td>\n",
              "      <td>B28</td>\n",
              "      <td>NaN</td>\n",
              "      <td>0</td>\n",
              "    </tr>\n",
              "  </tbody>\n",
              "</table>\n",
              "</div>"
            ],
            "text/plain": [
              "     PassengerId  Survived  Pclass                                       Name  \\\n",
              "61            62         1       1                        Icard, Miss. Amelie   \n",
              "829          830         1       1  Stone, Mrs. George Nelson (Martha Evelyn)   \n",
              "\n",
              "        Sex   Age  SibSp  Parch  Ticket  Fare Cabin Embarked  cabin_is_none  \n",
              "61   female  38.0      0      0  113572  80.0   B28      NaN              0  \n",
              "829  female  62.0      0      0  113572  80.0   B28      NaN              0  "
            ]
          },
          "metadata": {
            "tags": []
          },
          "execution_count": 10
        }
      ]
    },
    {
      "cell_type": "code",
      "metadata": {
        "id": "Vbg6RDIwkZit",
        "colab_type": "code",
        "colab": {
          "base_uri": "https://localhost:8080/",
          "height": 146
        },
        "outputId": "5754d87c-fab7-450f-ca8b-11f18fecece8"
      },
      "source": [
        "#train[(train.Pclass == 1) & (train.Sex == 'female') & (train.Survived == 1) & (train.SibSp == 0) & (train.Parch == 0)\n",
        "#     & (train.Age <= 70) & (train.Age >= 57)]\n",
        "\n",
        "\n",
        "print(train[train.Embarked.isnull()])\n",
        "#для Cabin, Ticket Embarked , Fare является уникальным значением\n",
        "#train.drop(train[train.Embarked.isnull()].index, axis = 0, inplace = True)\n",
        "\n",
        "train.loc[61, 'Embarked'] = 'C'\n",
        "train.loc[829, 'Embarked'] = 'S'\n",
        "\n",
        "into = {\n",
        "       'S': 1, \n",
        "       'C': 2,\n",
        "       'Q': 3\n",
        "       } #титаник S->C->Q \n",
        "for df in [train, test]:\n",
        "    df.Embarked = df.Embarked.map(into)"
      ],
      "execution_count": 11,
      "outputs": [
        {
          "output_type": "stream",
          "text": [
            "     PassengerId  Survived  Pclass                                       Name  \\\n",
            "61            62         1       1                        Icard, Miss. Amelie   \n",
            "829          830         1       1  Stone, Mrs. George Nelson (Martha Evelyn)   \n",
            "\n",
            "        Sex   Age  SibSp  Parch  Ticket  Fare Cabin Embarked  cabin_is_none  \n",
            "61   female  38.0      0      0  113572  80.0   B28      NaN              0  \n",
            "829  female  62.0      0      0  113572  80.0   B28      NaN              0  \n"
          ],
          "name": "stdout"
        }
      ]
    },
    {
      "cell_type": "code",
      "metadata": {
        "id": "1agwHzr-kZi7",
        "colab_type": "code",
        "colab": {
          "base_uri": "https://localhost:8080/",
          "height": 35
        },
        "outputId": "de246859-4431-41c4-fd51-99666be611f5"
      },
      "source": [
        "print(train.Sex.unique(), test.Sex.unique())\n",
        "train.Sex = train.Sex.map({'male': 1, 'female': 0})\n",
        "test.Sex = test.Sex.map({'male': 1, 'female': 0})"
      ],
      "execution_count": 12,
      "outputs": [
        {
          "output_type": "stream",
          "text": [
            "['male' 'female'] ['male' 'female']\n"
          ],
          "name": "stdout"
        }
      ]
    },
    {
      "cell_type": "code",
      "metadata": {
        "id": "N0vdX3KgkZjI",
        "colab_type": "code",
        "colab": {}
      },
      "source": [
        "#создание признака индикатора\n",
        "train['status_person'] = train.Name.apply(lambda s: re.findall('\\w+[.]', s)[0])\n",
        "test['status_person'] = test.Name.apply(lambda s: re.findall('\\w+[.]', s)[0])"
      ],
      "execution_count": 0,
      "outputs": []
    },
    {
      "cell_type": "code",
      "metadata": {
        "id": "EjiSEa-fkZjV",
        "colab_type": "code",
        "colab": {
          "base_uri": "https://localhost:8080/",
          "height": 513
        },
        "outputId": "acc2b20e-a2c7-413a-c480-684398abb238"
      },
      "source": [
        "train.status_person.value_counts(), test.status_person.value_counts()"
      ],
      "execution_count": 14,
      "outputs": [
        {
          "output_type": "execute_result",
          "data": {
            "text/plain": [
              "(Mr.          517\n",
              " Miss.        182\n",
              " Mrs.         125\n",
              " Master.       40\n",
              " Dr.            7\n",
              " Rev.           6\n",
              " Mlle.          2\n",
              " Col.           2\n",
              " Major.         2\n",
              " Countess.      1\n",
              " Sir.           1\n",
              " Jonkheer.      1\n",
              " Capt.          1\n",
              " Lady.          1\n",
              " Don.           1\n",
              " Mme.           1\n",
              " Ms.            1\n",
              " Name: status_person, dtype: int64, Mr.        240\n",
              " Miss.       78\n",
              " Mrs.        72\n",
              " Master.     21\n",
              " Rev.         2\n",
              " Col.         2\n",
              " Ms.          1\n",
              " Dona.        1\n",
              " Dr.          1\n",
              " Name: status_person, dtype: int64)"
            ]
          },
          "metadata": {
            "tags": []
          },
          "execution_count": 14
        }
      ]
    },
    {
      "cell_type": "markdown",
      "metadata": {
        "id": "q9MOKdAAkZjk",
        "colab_type": "text"
      },
      "source": [
        "rev - священник \n",
        "mrs - замужная женщина\n",
        "miss - не замужнаяя женщина\n",
        "ms - разведенная и вдовы или не известен семейный статус\n",
        "mr - мужчина\n",
        "capt - капитан\n",
        "dr - доктор\n",
        "col - военный\n",
        "sir - мужчина с титулом\n",
        "lady - к женщинам вежливое обращение с титутлом\n",
        "master - мальчики дл 16 лет\n",
        "mme - мадам\n",
        "Jonkheer - низкий титул в дворянстве\n",
        "don, dona - титул знатити для муж и жен соотвественно\n",
        "Countess - графиня\n",
        "milli - мадмуазель "
      ]
    },
    {
      "cell_type": "code",
      "metadata": {
        "id": "m8FA8xUBkZjm",
        "colab_type": "code",
        "colab": {
          "base_uri": "https://localhost:8080/",
          "height": 495
        },
        "outputId": "9bd8e104-1f4f-474c-ffaf-092be767600a"
      },
      "source": [
        "train.groupby('status_person')['Survived'].value_counts()\n",
        "#больше всего выживали женщ. погибали со во всех случаях священники "
      ],
      "execution_count": 15,
      "outputs": [
        {
          "output_type": "execute_result",
          "data": {
            "text/plain": [
              "status_person  Survived\n",
              "Capt.          0             1\n",
              "Col.           0             1\n",
              "               1             1\n",
              "Countess.      1             1\n",
              "Don.           0             1\n",
              "Dr.            0             4\n",
              "               1             3\n",
              "Jonkheer.      0             1\n",
              "Lady.          1             1\n",
              "Major.         0             1\n",
              "               1             1\n",
              "Master.        1            23\n",
              "               0            17\n",
              "Miss.          1           127\n",
              "               0            55\n",
              "Mlle.          1             2\n",
              "Mme.           1             1\n",
              "Mr.            0           436\n",
              "               1            81\n",
              "Mrs.           1            99\n",
              "               0            26\n",
              "Ms.            1             1\n",
              "Rev.           0             6\n",
              "Sir.           1             1\n",
              "Name: Survived, dtype: int64"
            ]
          },
          "metadata": {
            "tags": []
          },
          "execution_count": 15
        }
      ]
    },
    {
      "cell_type": "code",
      "metadata": {
        "id": "gA4nBZ-dkZj4",
        "colab_type": "code",
        "colab": {
          "base_uri": "https://localhost:8080/",
          "height": 535
        },
        "outputId": "c23adca1-ceab-4dc1-c9a8-cb8b2c696943"
      },
      "source": [
        "train[train.status_person == 'Rev.']\n",
        "#все из 2-ого класс, кроме 1 садились в 1 городе и у всех не указана кабина"
      ],
      "execution_count": 16,
      "outputs": [
        {
          "output_type": "execute_result",
          "data": {
            "text/html": [
              "<div>\n",
              "<style scoped>\n",
              "    .dataframe tbody tr th:only-of-type {\n",
              "        vertical-align: middle;\n",
              "    }\n",
              "\n",
              "    .dataframe tbody tr th {\n",
              "        vertical-align: top;\n",
              "    }\n",
              "\n",
              "    .dataframe thead th {\n",
              "        text-align: right;\n",
              "    }\n",
              "</style>\n",
              "<table border=\"1\" class=\"dataframe\">\n",
              "  <thead>\n",
              "    <tr style=\"text-align: right;\">\n",
              "      <th></th>\n",
              "      <th>PassengerId</th>\n",
              "      <th>Survived</th>\n",
              "      <th>Pclass</th>\n",
              "      <th>Name</th>\n",
              "      <th>Sex</th>\n",
              "      <th>Age</th>\n",
              "      <th>SibSp</th>\n",
              "      <th>Parch</th>\n",
              "      <th>Ticket</th>\n",
              "      <th>Fare</th>\n",
              "      <th>Cabin</th>\n",
              "      <th>Embarked</th>\n",
              "      <th>cabin_is_none</th>\n",
              "      <th>status_person</th>\n",
              "    </tr>\n",
              "  </thead>\n",
              "  <tbody>\n",
              "    <tr>\n",
              "      <th>149</th>\n",
              "      <td>150</td>\n",
              "      <td>0</td>\n",
              "      <td>2</td>\n",
              "      <td>Byles, Rev. Thomas Roussel Davids</td>\n",
              "      <td>1</td>\n",
              "      <td>42.0</td>\n",
              "      <td>0</td>\n",
              "      <td>0</td>\n",
              "      <td>244310</td>\n",
              "      <td>13.000</td>\n",
              "      <td>NaN</td>\n",
              "      <td>1</td>\n",
              "      <td>1</td>\n",
              "      <td>Rev.</td>\n",
              "    </tr>\n",
              "    <tr>\n",
              "      <th>150</th>\n",
              "      <td>151</td>\n",
              "      <td>0</td>\n",
              "      <td>2</td>\n",
              "      <td>Bateman, Rev. Robert James</td>\n",
              "      <td>1</td>\n",
              "      <td>51.0</td>\n",
              "      <td>0</td>\n",
              "      <td>0</td>\n",
              "      <td>S.O.P. 1166</td>\n",
              "      <td>12.525</td>\n",
              "      <td>NaN</td>\n",
              "      <td>1</td>\n",
              "      <td>1</td>\n",
              "      <td>Rev.</td>\n",
              "    </tr>\n",
              "    <tr>\n",
              "      <th>249</th>\n",
              "      <td>250</td>\n",
              "      <td>0</td>\n",
              "      <td>2</td>\n",
              "      <td>Carter, Rev. Ernest Courtenay</td>\n",
              "      <td>1</td>\n",
              "      <td>54.0</td>\n",
              "      <td>1</td>\n",
              "      <td>0</td>\n",
              "      <td>244252</td>\n",
              "      <td>26.000</td>\n",
              "      <td>NaN</td>\n",
              "      <td>1</td>\n",
              "      <td>1</td>\n",
              "      <td>Rev.</td>\n",
              "    </tr>\n",
              "    <tr>\n",
              "      <th>626</th>\n",
              "      <td>627</td>\n",
              "      <td>0</td>\n",
              "      <td>2</td>\n",
              "      <td>Kirkland, Rev. Charles Leonard</td>\n",
              "      <td>1</td>\n",
              "      <td>57.0</td>\n",
              "      <td>0</td>\n",
              "      <td>0</td>\n",
              "      <td>219533</td>\n",
              "      <td>12.350</td>\n",
              "      <td>NaN</td>\n",
              "      <td>3</td>\n",
              "      <td>1</td>\n",
              "      <td>Rev.</td>\n",
              "    </tr>\n",
              "    <tr>\n",
              "      <th>848</th>\n",
              "      <td>849</td>\n",
              "      <td>0</td>\n",
              "      <td>2</td>\n",
              "      <td>Harper, Rev. John</td>\n",
              "      <td>1</td>\n",
              "      <td>28.0</td>\n",
              "      <td>0</td>\n",
              "      <td>1</td>\n",
              "      <td>248727</td>\n",
              "      <td>33.000</td>\n",
              "      <td>NaN</td>\n",
              "      <td>1</td>\n",
              "      <td>1</td>\n",
              "      <td>Rev.</td>\n",
              "    </tr>\n",
              "    <tr>\n",
              "      <th>886</th>\n",
              "      <td>887</td>\n",
              "      <td>0</td>\n",
              "      <td>2</td>\n",
              "      <td>Montvila, Rev. Juozas</td>\n",
              "      <td>1</td>\n",
              "      <td>27.0</td>\n",
              "      <td>0</td>\n",
              "      <td>0</td>\n",
              "      <td>211536</td>\n",
              "      <td>13.000</td>\n",
              "      <td>NaN</td>\n",
              "      <td>1</td>\n",
              "      <td>1</td>\n",
              "      <td>Rev.</td>\n",
              "    </tr>\n",
              "  </tbody>\n",
              "</table>\n",
              "</div>"
            ],
            "text/plain": [
              "     PassengerId  Survived  Pclass                               Name  Sex  \\\n",
              "149          150         0       2  Byles, Rev. Thomas Roussel Davids    1   \n",
              "150          151         0       2         Bateman, Rev. Robert James    1   \n",
              "249          250         0       2      Carter, Rev. Ernest Courtenay    1   \n",
              "626          627         0       2     Kirkland, Rev. Charles Leonard    1   \n",
              "848          849         0       2                  Harper, Rev. John    1   \n",
              "886          887         0       2              Montvila, Rev. Juozas    1   \n",
              "\n",
              "      Age  SibSp  Parch       Ticket    Fare Cabin  Embarked  cabin_is_none  \\\n",
              "149  42.0      0      0       244310  13.000   NaN         1              1   \n",
              "150  51.0      0      0  S.O.P. 1166  12.525   NaN         1              1   \n",
              "249  54.0      1      0       244252  26.000   NaN         1              1   \n",
              "626  57.0      0      0       219533  12.350   NaN         3              1   \n",
              "848  28.0      0      1       248727  33.000   NaN         1              1   \n",
              "886  27.0      0      0       211536  13.000   NaN         1              1   \n",
              "\n",
              "    status_person  \n",
              "149          Rev.  \n",
              "150          Rev.  \n",
              "249          Rev.  \n",
              "626          Rev.  \n",
              "848          Rev.  \n",
              "886          Rev.  "
            ]
          },
          "metadata": {
            "tags": []
          },
          "execution_count": 16
        }
      ]
    },
    {
      "cell_type": "code",
      "metadata": {
        "id": "-FV3OC7zkZkC",
        "colab_type": "code",
        "colab": {
          "base_uri": "https://localhost:8080/",
          "height": 153
        },
        "outputId": "372e8528-3de8-4ebc-b794-f19066ad8746"
      },
      "source": [
        "train[train.status_person == 'Capt.']#не капитан титаника"
      ],
      "execution_count": 17,
      "outputs": [
        {
          "output_type": "execute_result",
          "data": {
            "text/html": [
              "<div>\n",
              "<style scoped>\n",
              "    .dataframe tbody tr th:only-of-type {\n",
              "        vertical-align: middle;\n",
              "    }\n",
              "\n",
              "    .dataframe tbody tr th {\n",
              "        vertical-align: top;\n",
              "    }\n",
              "\n",
              "    .dataframe thead th {\n",
              "        text-align: right;\n",
              "    }\n",
              "</style>\n",
              "<table border=\"1\" class=\"dataframe\">\n",
              "  <thead>\n",
              "    <tr style=\"text-align: right;\">\n",
              "      <th></th>\n",
              "      <th>PassengerId</th>\n",
              "      <th>Survived</th>\n",
              "      <th>Pclass</th>\n",
              "      <th>Name</th>\n",
              "      <th>Sex</th>\n",
              "      <th>Age</th>\n",
              "      <th>SibSp</th>\n",
              "      <th>Parch</th>\n",
              "      <th>Ticket</th>\n",
              "      <th>Fare</th>\n",
              "      <th>Cabin</th>\n",
              "      <th>Embarked</th>\n",
              "      <th>cabin_is_none</th>\n",
              "      <th>status_person</th>\n",
              "    </tr>\n",
              "  </thead>\n",
              "  <tbody>\n",
              "    <tr>\n",
              "      <th>745</th>\n",
              "      <td>746</td>\n",
              "      <td>0</td>\n",
              "      <td>1</td>\n",
              "      <td>Crosby, Capt. Edward Gifford</td>\n",
              "      <td>1</td>\n",
              "      <td>70.0</td>\n",
              "      <td>1</td>\n",
              "      <td>1</td>\n",
              "      <td>WE/P 5735</td>\n",
              "      <td>71.0</td>\n",
              "      <td>B22</td>\n",
              "      <td>1</td>\n",
              "      <td>0</td>\n",
              "      <td>Capt.</td>\n",
              "    </tr>\n",
              "  </tbody>\n",
              "</table>\n",
              "</div>"
            ],
            "text/plain": [
              "     PassengerId  Survived  Pclass                          Name  Sex   Age  \\\n",
              "745          746         0       1  Crosby, Capt. Edward Gifford    1  70.0   \n",
              "\n",
              "     SibSp  Parch     Ticket  Fare Cabin  Embarked  cabin_is_none  \\\n",
              "745      1      1  WE/P 5735  71.0   B22         1              0   \n",
              "\n",
              "    status_person  \n",
              "745         Capt.  "
            ]
          },
          "metadata": {
            "tags": []
          },
          "execution_count": 17
        }
      ]
    },
    {
      "cell_type": "code",
      "metadata": {
        "id": "ne-GeZ1AkZkN",
        "colab_type": "code",
        "colab": {}
      },
      "source": [
        "men_group = ['Sir.', 'Mr.', 'Don.'] #мужчины\n",
        "woman_group = ['Mmr.', 'Ms.', 'Mrs.'] #женщины\n",
        "woman_group_nobility = ['Mme.', 'Lady.', 'Dona.', 'Countess.'] #женщины знати\n",
        "girls_group = ['Miss.', 'Mlle.'] # не замужные девушки \n",
        "mil_group = ['Capt.', 'Col.', 'Major.', 'Dr.'] #военные и врачи\n",
        "rev_group = ['Rev.'] #священники(не много, но все погибли)\n",
        "boys_group = ['Master.', 'Jonkheer.'] #юноши\n",
        "\n",
        "#nobility = woman_group_nobility + ['Sir', 'Don.', 'Jonkheer.']\n",
        "\n",
        "group_status = dict(collections.ChainMap({val: 'mr' for val in men_group},\n",
        "        {val: 'ms' for val in woman_group + woman_group_nobility},\n",
        "        {val: 'miss' for val in girls_group},\n",
        "        {val: 'military' for val in mil_group},\n",
        "        {val: 'rev' for val in rev_group},\n",
        "        {val: 'master' for val in boys_group}))\n",
        "\n",
        "#train['nobility'] = train.status_person.apply(lambda s: 1 if s in nobility else 0)\n",
        "#test['nobility'] = test.status_person.apply(lambda s: 1 if s in nobility else 0)\n",
        "\n",
        "train.status_person = train.status_person.map(group_status)\n",
        "test.status_person = test.status_person.map(group_status)"
      ],
      "execution_count": 0,
      "outputs": []
    },
    {
      "cell_type": "code",
      "metadata": {
        "id": "IWkMg5BqkZkT",
        "colab_type": "code",
        "colab": {
          "base_uri": "https://localhost:8080/",
          "height": 540
        },
        "outputId": "4c9c4d70-06f3-4e12-f0e5-7b4e1963e1d7"
      },
      "source": [
        "pd.concat([train.groupby(['status_person', 'Pclass']).Fare.agg(['mean', 'median', 'min', 'max', 'count']).reset_index(), \n",
        "           test.groupby(['status_person', 'Pclass']).Fare.agg(['mean', 'median', 'min', 'max', 'count']).reset_index()], \n",
        "          axis = 1)"
      ],
      "execution_count": 19,
      "outputs": [
        {
          "output_type": "execute_result",
          "data": {
            "text/html": [
              "<div>\n",
              "<style scoped>\n",
              "    .dataframe tbody tr th:only-of-type {\n",
              "        vertical-align: middle;\n",
              "    }\n",
              "\n",
              "    .dataframe tbody tr th {\n",
              "        vertical-align: top;\n",
              "    }\n",
              "\n",
              "    .dataframe thead th {\n",
              "        text-align: right;\n",
              "    }\n",
              "</style>\n",
              "<table border=\"1\" class=\"dataframe\">\n",
              "  <thead>\n",
              "    <tr style=\"text-align: right;\">\n",
              "      <th></th>\n",
              "      <th>status_person</th>\n",
              "      <th>Pclass</th>\n",
              "      <th>mean</th>\n",
              "      <th>median</th>\n",
              "      <th>min</th>\n",
              "      <th>max</th>\n",
              "      <th>count</th>\n",
              "      <th>status_person</th>\n",
              "      <th>Pclass</th>\n",
              "      <th>mean</th>\n",
              "      <th>median</th>\n",
              "      <th>min</th>\n",
              "      <th>max</th>\n",
              "      <th>count</th>\n",
              "    </tr>\n",
              "  </thead>\n",
              "  <tbody>\n",
              "    <tr>\n",
              "      <th>0</th>\n",
              "      <td>master</td>\n",
              "      <td>1</td>\n",
              "      <td>88.352075</td>\n",
              "      <td>100.92915</td>\n",
              "      <td>0.0000</td>\n",
              "      <td>151.5500</td>\n",
              "      <td>4</td>\n",
              "      <td>master</td>\n",
              "      <td>1.0</td>\n",
              "      <td>198.437500</td>\n",
              "      <td>198.43750</td>\n",
              "      <td>134.5000</td>\n",
              "      <td>262.3750</td>\n",
              "      <td>2.0</td>\n",
              "    </tr>\n",
              "    <tr>\n",
              "      <th>1</th>\n",
              "      <td>master</td>\n",
              "      <td>2</td>\n",
              "      <td>27.306022</td>\n",
              "      <td>26.00000</td>\n",
              "      <td>14.5000</td>\n",
              "      <td>39.0000</td>\n",
              "      <td>9</td>\n",
              "      <td>master</td>\n",
              "      <td>2.0</td>\n",
              "      <td>27.750000</td>\n",
              "      <td>27.75000</td>\n",
              "      <td>23.0000</td>\n",
              "      <td>32.5000</td>\n",
              "      <td>2.0</td>\n",
              "    </tr>\n",
              "    <tr>\n",
              "      <th>2</th>\n",
              "      <td>master</td>\n",
              "      <td>3</td>\n",
              "      <td>28.177232</td>\n",
              "      <td>28.51250</td>\n",
              "      <td>8.5167</td>\n",
              "      <td>69.5500</td>\n",
              "      <td>28</td>\n",
              "      <td>master</td>\n",
              "      <td>3.0</td>\n",
              "      <td>20.941171</td>\n",
              "      <td>15.24580</td>\n",
              "      <td>3.1708</td>\n",
              "      <td>69.5500</td>\n",
              "      <td>17.0</td>\n",
              "    </tr>\n",
              "    <tr>\n",
              "      <th>3</th>\n",
              "      <td>military</td>\n",
              "      <td>1</td>\n",
              "      <td>50.977920</td>\n",
              "      <td>33.00000</td>\n",
              "      <td>25.9292</td>\n",
              "      <td>133.6500</td>\n",
              "      <td>10</td>\n",
              "      <td>military</td>\n",
              "      <td>1.0</td>\n",
              "      <td>112.627767</td>\n",
              "      <td>81.85830</td>\n",
              "      <td>28.5000</td>\n",
              "      <td>227.5250</td>\n",
              "      <td>3.0</td>\n",
              "    </tr>\n",
              "    <tr>\n",
              "      <th>4</th>\n",
              "      <td>military</td>\n",
              "      <td>2</td>\n",
              "      <td>12.250000</td>\n",
              "      <td>12.25000</td>\n",
              "      <td>10.5000</td>\n",
              "      <td>14.0000</td>\n",
              "      <td>2</td>\n",
              "      <td>miss</td>\n",
              "      <td>1.0</td>\n",
              "      <td>149.329471</td>\n",
              "      <td>158.20835</td>\n",
              "      <td>26.5500</td>\n",
              "      <td>263.0000</td>\n",
              "      <td>14.0</td>\n",
              "    </tr>\n",
              "    <tr>\n",
              "      <th>5</th>\n",
              "      <td>miss</td>\n",
              "      <td>1</td>\n",
              "      <td>121.694356</td>\n",
              "      <td>88.25000</td>\n",
              "      <td>26.2833</td>\n",
              "      <td>512.3292</td>\n",
              "      <td>48</td>\n",
              "      <td>miss</td>\n",
              "      <td>2.0</td>\n",
              "      <td>27.199219</td>\n",
              "      <td>24.50000</td>\n",
              "      <td>13.0000</td>\n",
              "      <td>65.0000</td>\n",
              "      <td>16.0</td>\n",
              "    </tr>\n",
              "    <tr>\n",
              "      <th>6</th>\n",
              "      <td>miss</td>\n",
              "      <td>2</td>\n",
              "      <td>20.393750</td>\n",
              "      <td>13.00000</td>\n",
              "      <td>10.5000</td>\n",
              "      <td>65.0000</td>\n",
              "      <td>34</td>\n",
              "      <td>miss</td>\n",
              "      <td>3.0</td>\n",
              "      <td>12.521962</td>\n",
              "      <td>7.87920</td>\n",
              "      <td>6.9500</td>\n",
              "      <td>69.5500</td>\n",
              "      <td>48.0</td>\n",
              "    </tr>\n",
              "    <tr>\n",
              "      <th>7</th>\n",
              "      <td>miss</td>\n",
              "      <td>3</td>\n",
              "      <td>15.248043</td>\n",
              "      <td>8.75625</td>\n",
              "      <td>6.7500</td>\n",
              "      <td>69.5500</td>\n",
              "      <td>102</td>\n",
              "      <td>mr</td>\n",
              "      <td>1.0</td>\n",
              "      <td>68.724521</td>\n",
              "      <td>50.24790</td>\n",
              "      <td>0.0000</td>\n",
              "      <td>262.3750</td>\n",
              "      <td>52.0</td>\n",
              "    </tr>\n",
              "    <tr>\n",
              "      <th>8</th>\n",
              "      <td>mr</td>\n",
              "      <td>1</td>\n",
              "      <td>67.562653</td>\n",
              "      <td>42.40000</td>\n",
              "      <td>0.0000</td>\n",
              "      <td>512.3292</td>\n",
              "      <td>109</td>\n",
              "      <td>mr</td>\n",
              "      <td>2.0</td>\n",
              "      <td>19.951410</td>\n",
              "      <td>13.00000</td>\n",
              "      <td>9.6875</td>\n",
              "      <td>73.5000</td>\n",
              "      <td>59.0</td>\n",
              "    </tr>\n",
              "    <tr>\n",
              "      <th>9</th>\n",
              "      <td>mr</td>\n",
              "      <td>2</td>\n",
              "      <td>19.252564</td>\n",
              "      <td>13.00000</td>\n",
              "      <td>0.0000</td>\n",
              "      <td>73.5000</td>\n",
              "      <td>91</td>\n",
              "      <td>mr</td>\n",
              "      <td>3.0</td>\n",
              "      <td>10.615788</td>\n",
              "      <td>7.85420</td>\n",
              "      <td>6.4375</td>\n",
              "      <td>69.5500</td>\n",
              "      <td>128.0</td>\n",
              "    </tr>\n",
              "    <tr>\n",
              "      <th>10</th>\n",
              "      <td>mr</td>\n",
              "      <td>3</td>\n",
              "      <td>11.299762</td>\n",
              "      <td>7.89580</td>\n",
              "      <td>0.0000</td>\n",
              "      <td>69.5500</td>\n",
              "      <td>319</td>\n",
              "      <td>ms</td>\n",
              "      <td>1.0</td>\n",
              "      <td>102.470717</td>\n",
              "      <td>69.82500</td>\n",
              "      <td>25.7000</td>\n",
              "      <td>512.3292</td>\n",
              "      <td>36.0</td>\n",
              "    </tr>\n",
              "    <tr>\n",
              "      <th>11</th>\n",
              "      <td>ms</td>\n",
              "      <td>1</td>\n",
              "      <td>91.301482</td>\n",
              "      <td>79.20000</td>\n",
              "      <td>25.9292</td>\n",
              "      <td>247.5208</td>\n",
              "      <td>45</td>\n",
              "      <td>ms</td>\n",
              "      <td>2.0</td>\n",
              "      <td>25.569643</td>\n",
              "      <td>26.00000</td>\n",
              "      <td>10.5000</td>\n",
              "      <td>39.0000</td>\n",
              "      <td>14.0</td>\n",
              "    </tr>\n",
              "    <tr>\n",
              "      <th>12</th>\n",
              "      <td>ms</td>\n",
              "      <td>2</td>\n",
              "      <td>23.246231</td>\n",
              "      <td>26.00000</td>\n",
              "      <td>10.5000</td>\n",
              "      <td>65.0000</td>\n",
              "      <td>42</td>\n",
              "      <td>ms</td>\n",
              "      <td>3.0</td>\n",
              "      <td>16.161463</td>\n",
              "      <td>14.28125</td>\n",
              "      <td>7.0000</td>\n",
              "      <td>69.5500</td>\n",
              "      <td>24.0</td>\n",
              "    </tr>\n",
              "    <tr>\n",
              "      <th>13</th>\n",
              "      <td>ms</td>\n",
              "      <td>3</td>\n",
              "      <td>18.233529</td>\n",
              "      <td>15.97500</td>\n",
              "      <td>7.2250</td>\n",
              "      <td>46.9000</td>\n",
              "      <td>42</td>\n",
              "      <td>rev</td>\n",
              "      <td>2.0</td>\n",
              "      <td>19.500000</td>\n",
              "      <td>19.50000</td>\n",
              "      <td>13.0000</td>\n",
              "      <td>26.0000</td>\n",
              "      <td>2.0</td>\n",
              "    </tr>\n",
              "    <tr>\n",
              "      <th>14</th>\n",
              "      <td>rev</td>\n",
              "      <td>2</td>\n",
              "      <td>18.312500</td>\n",
              "      <td>13.00000</td>\n",
              "      <td>12.3500</td>\n",
              "      <td>33.0000</td>\n",
              "      <td>6</td>\n",
              "      <td>NaN</td>\n",
              "      <td>NaN</td>\n",
              "      <td>NaN</td>\n",
              "      <td>NaN</td>\n",
              "      <td>NaN</td>\n",
              "      <td>NaN</td>\n",
              "      <td>NaN</td>\n",
              "    </tr>\n",
              "  </tbody>\n",
              "</table>\n",
              "</div>"
            ],
            "text/plain": [
              "   status_person  Pclass        mean     median      min       max  count  \\\n",
              "0         master       1   88.352075  100.92915   0.0000  151.5500      4   \n",
              "1         master       2   27.306022   26.00000  14.5000   39.0000      9   \n",
              "2         master       3   28.177232   28.51250   8.5167   69.5500     28   \n",
              "3       military       1   50.977920   33.00000  25.9292  133.6500     10   \n",
              "4       military       2   12.250000   12.25000  10.5000   14.0000      2   \n",
              "5           miss       1  121.694356   88.25000  26.2833  512.3292     48   \n",
              "6           miss       2   20.393750   13.00000  10.5000   65.0000     34   \n",
              "7           miss       3   15.248043    8.75625   6.7500   69.5500    102   \n",
              "8             mr       1   67.562653   42.40000   0.0000  512.3292    109   \n",
              "9             mr       2   19.252564   13.00000   0.0000   73.5000     91   \n",
              "10            mr       3   11.299762    7.89580   0.0000   69.5500    319   \n",
              "11            ms       1   91.301482   79.20000  25.9292  247.5208     45   \n",
              "12            ms       2   23.246231   26.00000  10.5000   65.0000     42   \n",
              "13            ms       3   18.233529   15.97500   7.2250   46.9000     42   \n",
              "14           rev       2   18.312500   13.00000  12.3500   33.0000      6   \n",
              "\n",
              "   status_person  Pclass        mean     median       min       max  count  \n",
              "0         master     1.0  198.437500  198.43750  134.5000  262.3750    2.0  \n",
              "1         master     2.0   27.750000   27.75000   23.0000   32.5000    2.0  \n",
              "2         master     3.0   20.941171   15.24580    3.1708   69.5500   17.0  \n",
              "3       military     1.0  112.627767   81.85830   28.5000  227.5250    3.0  \n",
              "4           miss     1.0  149.329471  158.20835   26.5500  263.0000   14.0  \n",
              "5           miss     2.0   27.199219   24.50000   13.0000   65.0000   16.0  \n",
              "6           miss     3.0   12.521962    7.87920    6.9500   69.5500   48.0  \n",
              "7             mr     1.0   68.724521   50.24790    0.0000  262.3750   52.0  \n",
              "8             mr     2.0   19.951410   13.00000    9.6875   73.5000   59.0  \n",
              "9             mr     3.0   10.615788    7.85420    6.4375   69.5500  128.0  \n",
              "10            ms     1.0  102.470717   69.82500   25.7000  512.3292   36.0  \n",
              "11            ms     2.0   25.569643   26.00000   10.5000   39.0000   14.0  \n",
              "12            ms     3.0   16.161463   14.28125    7.0000   69.5500   24.0  \n",
              "13           rev     2.0   19.500000   19.50000   13.0000   26.0000    2.0  \n",
              "14           NaN     NaN         NaN        NaN       NaN       NaN    NaN  "
            ]
          },
          "metadata": {
            "tags": []
          },
          "execution_count": 19
        }
      ]
    },
    {
      "cell_type": "code",
      "metadata": {
        "id": "WMkPc8hckZke",
        "colab_type": "code",
        "colab": {
          "base_uri": "https://localhost:8080/",
          "height": 540
        },
        "outputId": "64b95bdd-de46-4fc3-957b-a09f6c727667"
      },
      "source": [
        "pd.concat([train.groupby(['status_person', 'Pclass']).Age.agg(['mean', 'median', 'min', 'max', 'count']).reset_index(), \n",
        "           test.groupby(['status_person', 'Pclass']).Age.agg(['mean', 'median', 'min', 'max', 'count']).reset_index()], \n",
        "          axis = 1)"
      ],
      "execution_count": 20,
      "outputs": [
        {
          "output_type": "execute_result",
          "data": {
            "text/html": [
              "<div>\n",
              "<style scoped>\n",
              "    .dataframe tbody tr th:only-of-type {\n",
              "        vertical-align: middle;\n",
              "    }\n",
              "\n",
              "    .dataframe tbody tr th {\n",
              "        vertical-align: top;\n",
              "    }\n",
              "\n",
              "    .dataframe thead th {\n",
              "        text-align: right;\n",
              "    }\n",
              "</style>\n",
              "<table border=\"1\" class=\"dataframe\">\n",
              "  <thead>\n",
              "    <tr style=\"text-align: right;\">\n",
              "      <th></th>\n",
              "      <th>status_person</th>\n",
              "      <th>Pclass</th>\n",
              "      <th>mean</th>\n",
              "      <th>median</th>\n",
              "      <th>min</th>\n",
              "      <th>max</th>\n",
              "      <th>count</th>\n",
              "      <th>status_person</th>\n",
              "      <th>Pclass</th>\n",
              "      <th>mean</th>\n",
              "      <th>median</th>\n",
              "      <th>min</th>\n",
              "      <th>max</th>\n",
              "      <th>count</th>\n",
              "    </tr>\n",
              "  </thead>\n",
              "  <tbody>\n",
              "    <tr>\n",
              "      <th>0</th>\n",
              "      <td>master</td>\n",
              "      <td>1</td>\n",
              "      <td>13.480000</td>\n",
              "      <td>7.5</td>\n",
              "      <td>0.92</td>\n",
              "      <td>38.0</td>\n",
              "      <td>4</td>\n",
              "      <td>master</td>\n",
              "      <td>1.0</td>\n",
              "      <td>9.500000</td>\n",
              "      <td>9.5</td>\n",
              "      <td>6.00</td>\n",
              "      <td>13.0</td>\n",
              "      <td>2.0</td>\n",
              "    </tr>\n",
              "    <tr>\n",
              "      <th>1</th>\n",
              "      <td>master</td>\n",
              "      <td>2</td>\n",
              "      <td>2.258889</td>\n",
              "      <td>1.0</td>\n",
              "      <td>0.67</td>\n",
              "      <td>8.0</td>\n",
              "      <td>9</td>\n",
              "      <td>master</td>\n",
              "      <td>2.0</td>\n",
              "      <td>5.000000</td>\n",
              "      <td>5.0</td>\n",
              "      <td>2.00</td>\n",
              "      <td>8.0</td>\n",
              "      <td>2.0</td>\n",
              "    </tr>\n",
              "    <tr>\n",
              "      <th>2</th>\n",
              "      <td>master</td>\n",
              "      <td>3</td>\n",
              "      <td>5.350833</td>\n",
              "      <td>4.0</td>\n",
              "      <td>0.42</td>\n",
              "      <td>12.0</td>\n",
              "      <td>24</td>\n",
              "      <td>master</td>\n",
              "      <td>3.0</td>\n",
              "      <td>7.454615</td>\n",
              "      <td>7.0</td>\n",
              "      <td>0.33</td>\n",
              "      <td>14.5</td>\n",
              "      <td>13.0</td>\n",
              "    </tr>\n",
              "    <tr>\n",
              "      <th>3</th>\n",
              "      <td>military</td>\n",
              "      <td>1</td>\n",
              "      <td>50.888889</td>\n",
              "      <td>50.0</td>\n",
              "      <td>32.00</td>\n",
              "      <td>70.0</td>\n",
              "      <td>9</td>\n",
              "      <td>military</td>\n",
              "      <td>1.0</td>\n",
              "      <td>51.000000</td>\n",
              "      <td>53.0</td>\n",
              "      <td>47.00</td>\n",
              "      <td>53.0</td>\n",
              "      <td>3.0</td>\n",
              "    </tr>\n",
              "    <tr>\n",
              "      <th>4</th>\n",
              "      <td>military</td>\n",
              "      <td>2</td>\n",
              "      <td>38.500000</td>\n",
              "      <td>38.5</td>\n",
              "      <td>23.00</td>\n",
              "      <td>54.0</td>\n",
              "      <td>2</td>\n",
              "      <td>miss</td>\n",
              "      <td>1.0</td>\n",
              "      <td>31.428571</td>\n",
              "      <td>32.0</td>\n",
              "      <td>21.00</td>\n",
              "      <td>45.0</td>\n",
              "      <td>14.0</td>\n",
              "    </tr>\n",
              "    <tr>\n",
              "      <th>5</th>\n",
              "      <td>miss</td>\n",
              "      <td>1</td>\n",
              "      <td>29.744681</td>\n",
              "      <td>30.0</td>\n",
              "      <td>2.00</td>\n",
              "      <td>63.0</td>\n",
              "      <td>47</td>\n",
              "      <td>miss</td>\n",
              "      <td>2.0</td>\n",
              "      <td>17.370000</td>\n",
              "      <td>19.5</td>\n",
              "      <td>0.92</td>\n",
              "      <td>31.0</td>\n",
              "      <td>16.0</td>\n",
              "    </tr>\n",
              "    <tr>\n",
              "      <th>6</th>\n",
              "      <td>miss</td>\n",
              "      <td>2</td>\n",
              "      <td>22.390625</td>\n",
              "      <td>24.0</td>\n",
              "      <td>2.00</td>\n",
              "      <td>50.0</td>\n",
              "      <td>32</td>\n",
              "      <td>miss</td>\n",
              "      <td>3.0</td>\n",
              "      <td>19.872647</td>\n",
              "      <td>22.0</td>\n",
              "      <td>0.17</td>\n",
              "      <td>38.0</td>\n",
              "      <td>34.0</td>\n",
              "    </tr>\n",
              "    <tr>\n",
              "      <th>7</th>\n",
              "      <td>miss</td>\n",
              "      <td>3</td>\n",
              "      <td>16.123188</td>\n",
              "      <td>18.0</td>\n",
              "      <td>0.75</td>\n",
              "      <td>45.0</td>\n",
              "      <td>69</td>\n",
              "      <td>mr</td>\n",
              "      <td>1.0</td>\n",
              "      <td>41.200000</td>\n",
              "      <td>42.0</td>\n",
              "      <td>17.00</td>\n",
              "      <td>67.0</td>\n",
              "      <td>45.0</td>\n",
              "    </tr>\n",
              "    <tr>\n",
              "      <th>8</th>\n",
              "      <td>mr</td>\n",
              "      <td>1</td>\n",
              "      <td>41.646067</td>\n",
              "      <td>40.0</td>\n",
              "      <td>17.00</td>\n",
              "      <td>80.0</td>\n",
              "      <td>89</td>\n",
              "      <td>mr</td>\n",
              "      <td>2.0</td>\n",
              "      <td>31.718182</td>\n",
              "      <td>28.0</td>\n",
              "      <td>14.00</td>\n",
              "      <td>63.0</td>\n",
              "      <td>55.0</td>\n",
              "    </tr>\n",
              "    <tr>\n",
              "      <th>9</th>\n",
              "      <td>mr</td>\n",
              "      <td>2</td>\n",
              "      <td>32.768293</td>\n",
              "      <td>31.0</td>\n",
              "      <td>16.00</td>\n",
              "      <td>70.0</td>\n",
              "      <td>82</td>\n",
              "      <td>mr</td>\n",
              "      <td>3.0</td>\n",
              "      <td>27.198795</td>\n",
              "      <td>25.0</td>\n",
              "      <td>14.00</td>\n",
              "      <td>60.5</td>\n",
              "      <td>83.0</td>\n",
              "    </tr>\n",
              "    <tr>\n",
              "      <th>10</th>\n",
              "      <td>mr</td>\n",
              "      <td>3</td>\n",
              "      <td>28.724891</td>\n",
              "      <td>26.0</td>\n",
              "      <td>11.00</td>\n",
              "      <td>74.0</td>\n",
              "      <td>229</td>\n",
              "      <td>ms</td>\n",
              "      <td>1.0</td>\n",
              "      <td>45.411765</td>\n",
              "      <td>48.0</td>\n",
              "      <td>18.00</td>\n",
              "      <td>76.0</td>\n",
              "      <td>34.0</td>\n",
              "    </tr>\n",
              "    <tr>\n",
              "      <th>11</th>\n",
              "      <td>ms</td>\n",
              "      <td>1</td>\n",
              "      <td>40.405405</td>\n",
              "      <td>40.0</td>\n",
              "      <td>17.00</td>\n",
              "      <td>62.0</td>\n",
              "      <td>37</td>\n",
              "      <td>ms</td>\n",
              "      <td>2.0</td>\n",
              "      <td>33.000000</td>\n",
              "      <td>29.0</td>\n",
              "      <td>22.00</td>\n",
              "      <td>60.0</td>\n",
              "      <td>13.0</td>\n",
              "    </tr>\n",
              "    <tr>\n",
              "      <th>12</th>\n",
              "      <td>ms</td>\n",
              "      <td>2</td>\n",
              "      <td>33.547619</td>\n",
              "      <td>31.5</td>\n",
              "      <td>14.00</td>\n",
              "      <td>57.0</td>\n",
              "      <td>42</td>\n",
              "      <td>ms</td>\n",
              "      <td>3.0</td>\n",
              "      <td>29.875000</td>\n",
              "      <td>28.0</td>\n",
              "      <td>16.00</td>\n",
              "      <td>47.0</td>\n",
              "      <td>16.0</td>\n",
              "    </tr>\n",
              "    <tr>\n",
              "      <th>13</th>\n",
              "      <td>ms</td>\n",
              "      <td>3</td>\n",
              "      <td>33.515152</td>\n",
              "      <td>31.0</td>\n",
              "      <td>15.00</td>\n",
              "      <td>63.0</td>\n",
              "      <td>33</td>\n",
              "      <td>rev</td>\n",
              "      <td>2.0</td>\n",
              "      <td>35.500000</td>\n",
              "      <td>35.5</td>\n",
              "      <td>30.00</td>\n",
              "      <td>41.0</td>\n",
              "      <td>2.0</td>\n",
              "    </tr>\n",
              "    <tr>\n",
              "      <th>14</th>\n",
              "      <td>rev</td>\n",
              "      <td>2</td>\n",
              "      <td>43.166667</td>\n",
              "      <td>46.5</td>\n",
              "      <td>27.00</td>\n",
              "      <td>57.0</td>\n",
              "      <td>6</td>\n",
              "      <td>NaN</td>\n",
              "      <td>NaN</td>\n",
              "      <td>NaN</td>\n",
              "      <td>NaN</td>\n",
              "      <td>NaN</td>\n",
              "      <td>NaN</td>\n",
              "      <td>NaN</td>\n",
              "    </tr>\n",
              "  </tbody>\n",
              "</table>\n",
              "</div>"
            ],
            "text/plain": [
              "   status_person  Pclass       mean  median    min   max  count status_person  \\\n",
              "0         master       1  13.480000     7.5   0.92  38.0      4        master   \n",
              "1         master       2   2.258889     1.0   0.67   8.0      9        master   \n",
              "2         master       3   5.350833     4.0   0.42  12.0     24        master   \n",
              "3       military       1  50.888889    50.0  32.00  70.0      9      military   \n",
              "4       military       2  38.500000    38.5  23.00  54.0      2          miss   \n",
              "5           miss       1  29.744681    30.0   2.00  63.0     47          miss   \n",
              "6           miss       2  22.390625    24.0   2.00  50.0     32          miss   \n",
              "7           miss       3  16.123188    18.0   0.75  45.0     69            mr   \n",
              "8             mr       1  41.646067    40.0  17.00  80.0     89            mr   \n",
              "9             mr       2  32.768293    31.0  16.00  70.0     82            mr   \n",
              "10            mr       3  28.724891    26.0  11.00  74.0    229            ms   \n",
              "11            ms       1  40.405405    40.0  17.00  62.0     37            ms   \n",
              "12            ms       2  33.547619    31.5  14.00  57.0     42            ms   \n",
              "13            ms       3  33.515152    31.0  15.00  63.0     33           rev   \n",
              "14           rev       2  43.166667    46.5  27.00  57.0      6           NaN   \n",
              "\n",
              "    Pclass       mean  median    min   max  count  \n",
              "0      1.0   9.500000     9.5   6.00  13.0    2.0  \n",
              "1      2.0   5.000000     5.0   2.00   8.0    2.0  \n",
              "2      3.0   7.454615     7.0   0.33  14.5   13.0  \n",
              "3      1.0  51.000000    53.0  47.00  53.0    3.0  \n",
              "4      1.0  31.428571    32.0  21.00  45.0   14.0  \n",
              "5      2.0  17.370000    19.5   0.92  31.0   16.0  \n",
              "6      3.0  19.872647    22.0   0.17  38.0   34.0  \n",
              "7      1.0  41.200000    42.0  17.00  67.0   45.0  \n",
              "8      2.0  31.718182    28.0  14.00  63.0   55.0  \n",
              "9      3.0  27.198795    25.0  14.00  60.5   83.0  \n",
              "10     1.0  45.411765    48.0  18.00  76.0   34.0  \n",
              "11     2.0  33.000000    29.0  22.00  60.0   13.0  \n",
              "12     3.0  29.875000    28.0  16.00  47.0   16.0  \n",
              "13     2.0  35.500000    35.5  30.00  41.0    2.0  \n",
              "14     NaN        NaN     NaN    NaN   NaN    NaN  "
            ]
          },
          "metadata": {
            "tags": []
          },
          "execution_count": 20
        }
      ]
    },
    {
      "cell_type": "code",
      "metadata": {
        "id": "nibei5MHkZko",
        "colab_type": "code",
        "colab": {
          "base_uri": "https://localhost:8080/",
          "height": 256
        },
        "outputId": "9ee2aa67-e1d7-4edb-fbad-a2cb843a7df1"
      },
      "source": [
        "train.groupby('status_person').Survived.value_counts()"
      ],
      "execution_count": 21,
      "outputs": [
        {
          "output_type": "execute_result",
          "data": {
            "text/plain": [
              "status_person  Survived\n",
              "master         1            23\n",
              "               0            18\n",
              "military       0             7\n",
              "               1             5\n",
              "miss           1           129\n",
              "               0            55\n",
              "mr             0           437\n",
              "               1            82\n",
              "ms             1           103\n",
              "               0            26\n",
              "rev            0             6\n",
              "Name: Survived, dtype: int64"
            ]
          },
          "metadata": {
            "tags": []
          },
          "execution_count": 21
        }
      ]
    },
    {
      "cell_type": "code",
      "metadata": {
        "id": "H7fcjueskZk2",
        "colab_type": "code",
        "colab": {
          "base_uri": "https://localhost:8080/",
          "height": 336
        },
        "outputId": "6619329e-7959-4b6b-d3f5-a7eabef12600"
      },
      "source": [
        "fig, ax = plt.subplots(1, 2, figsize = (10, 5))\n",
        "sns.countplot(data = train, x = 'status_person', ax = ax[0])\n",
        "sns.countplot(data = test, x = 'status_person', ax = ax[1]);"
      ],
      "execution_count": 22,
      "outputs": [
        {
          "output_type": "display_data",
          "data": {
            "image/png": "[encoded data removed]",
            "text/plain": [
              "<Figure size 720x360 with 2 Axes>"
            ]
          },
          "metadata": {
            "tags": []
          }
        }
      ]
    },
    {
      "cell_type": "code",
      "metadata": {
        "id": "cWjeGLqjkZlC",
        "colab_type": "code",
        "colab": {}
      },
      "source": [
        "#количество кабин\n",
        "for df in [train, test]:\n",
        "    df['count_cabin'] = df.Cabin.apply(lambda s: 0 if isinstance(s, float) else len(s.split(' ')))"
      ],
      "execution_count": 0,
      "outputs": []
    },
    {
      "cell_type": "code",
      "metadata": {
        "id": "1sQ65fjXkZlL",
        "colab_type": "code",
        "colab": {}
      },
      "source": [
        "#какие буквы входят в Cabin\n",
        "for df in [train, test]:\n",
        "    for char in ['A', 'B', 'C', 'D', 'E', 'F', 'G']:\n",
        "        df[f'is_{char}'] = df.Cabin.apply(lambda s: 0 if isinstance(s, float) else collections.Counter(s).get(char, 0))"
      ],
      "execution_count": 0,
      "outputs": []
    },
    {
      "cell_type": "code",
      "metadata": {
        "id": "bcSej7VpkZlT",
        "colab_type": "code",
        "colab": {}
      },
      "source": [
        "#цифры в Cabin, можно видеть, что если указано несколько кабин, то они близки друг к другу\n",
        "for df in [train, test]:\n",
        "    g = lambda s: re.findall('(\\d+)', s) if len(re.findall('(\\d+)', s)) != 0 else ['0']\n",
        "    f = lambda s: np.apply_along_axis(np.vectorize(int), 0, g(s))\n",
        "    df['mean_cabin'] = df.Cabin.apply(lambda s: -1 if isinstance(s, float) else f(s).mean())"
      ],
      "execution_count": 0,
      "outputs": []
    },
    {
      "cell_type": "code",
      "metadata": {
        "id": "egkBpcj_kZld",
        "colab_type": "code",
        "colab": {
          "base_uri": "https://localhost:8080/",
          "height": 281
        },
        "outputId": "69088273-aa44-470b-f2e0-2bd815dfd277"
      },
      "source": [
        "sns.countplot(train[(train[['is_A', 'is_B', 'is_C', 'is_D', 'is_E', 'is_F', 'is_G']].sum(axis = 1) == 0).astype(bool)].Survived);"
      ],
      "execution_count": 26,
      "outputs": [
        {
          "output_type": "display_data",
          "data": {
            "image/png": "[encoded data removed]",
            "text/plain": [
              "<Figure size 432x288 with 1 Axes>"
            ]
          },
          "metadata": {
            "tags": []
          }
        }
      ]
    },
    {
      "cell_type": "code",
      "metadata": {
        "id": "Dons5TemkZln",
        "colab_type": "code",
        "colab": {
          "base_uri": "https://localhost:8080/",
          "height": 336
        },
        "outputId": "22c2c777-d4b2-4d8a-b4b3-a6b1ebff800f"
      },
      "source": [
        "fig, ax = plt.subplots(1, 8, figsize = (10, 5))\n",
        "for i, col in enumerate(['is_A', 'is_B', 'is_C', 'is_D', 'is_E', 'is_F', 'is_G', 'count_cabin']):\n",
        "    sns.countplot(data = train, hue = 'Survived', x = col, ax = ax[i])\n",
        "    \n",
        "#в кабине E, D больше выживало "
      ],
      "execution_count": 27,
      "outputs": [
        {
          "output_type": "display_data",
          "data": {
            "image/png": "[encoded data removed]",
            "text/plain": [
              "<Figure size 720x360 with 8 Axes>"
            ]
          },
          "metadata": {
            "tags": []
          }
        }
      ]
    },
    {
      "cell_type": "code",
      "metadata": {
        "id": "B81rPyGmkZlw",
        "colab_type": "code",
        "colab": {}
      },
      "source": [
        "test.Fare.fillna(6.2375, inplace = True) \n",
        "#число было выбрано из условия train[(train.Pclass == 3) & (train.Cabin.isnull()) & (train.Sex == 1) & (train.Age > 60)]"
      ],
      "execution_count": 0,
      "outputs": []
    },
    {
      "cell_type": "code",
      "metadata": {
        "id": "BBCEwvgakZl6",
        "colab_type": "code",
        "colab": {
          "base_uri": "https://localhost:8080/",
          "height": 334
        },
        "outputId": "f42debf6-c27c-4134-a098-d0f3607c1072"
      },
      "source": [
        "fig, ax = plt.subplots(1, 3, figsize = (10, 5))\n",
        "for i, col in enumerate(['Pclass', 'Embarked', 'Sex']):\n",
        "    sns.countplot(data = train, x = col, hue = 'Survived', ax = ax[i])"
      ],
      "execution_count": 29,
      "outputs": [
        {
          "output_type": "display_data",
          "data": {
            "image/png": "[encoded data removed]",
            "text/plain": [
              "<Figure size 720x360 with 3 Axes>"
            ]
          },
          "metadata": {
            "tags": []
          }
        }
      ]
    },
    {
      "cell_type": "code",
      "metadata": {
        "id": "ADVl41dNkZmD",
        "colab_type": "code",
        "colab": {
          "base_uri": "https://localhost:8080/",
          "height": 72
        },
        "outputId": "f1f9bdb4-c9bf-4a0f-f8f2-fcf0c1478557"
      },
      "source": [
        "#отношение людей без определенного возраста к целевой переменной\n",
        "train[train.Age.isnull()].Survived.value_counts() "
      ],
      "execution_count": 30,
      "outputs": [
        {
          "output_type": "execute_result",
          "data": {
            "text/plain": [
              "0    125\n",
              "1     52\n",
              "Name: Survived, dtype: int64"
            ]
          },
          "metadata": {
            "tags": []
          },
          "execution_count": 30
        }
      ]
    },
    {
      "cell_type": "code",
      "metadata": {
        "id": "9m8w8F8GkZmO",
        "colab_type": "code",
        "colab": {}
      },
      "source": [
        "into = train.groupby(['status_person', 'Pclass']).Age.agg(['mean', 'median', 'min', 'max', 'count'])\n",
        "\n",
        "for idx in train[train.Age.isnull()].index:\n",
        "    train.loc[idx, 'Age'] = into.loc[train.loc[idx, 'status_person'], train.loc[idx, 'Pclass']]['mean']\n",
        "\n",
        "for idx in test[test.Age.isnull()].index:\n",
        "    test.loc[idx, 'Age'] = into.loc[test.loc[idx, 'status_person'], test.loc[idx, 'Pclass']]['mean']"
      ],
      "execution_count": 0,
      "outputs": []
    },
    {
      "cell_type": "code",
      "metadata": {
        "id": "UUTNVw6jkZmX",
        "colab_type": "code",
        "colab": {}
      },
      "source": [
        "for df in [train, test]:\n",
        "    df['family'] = df.SibSp + df.Parch\n",
        "    df['alone'] = (df.family == 0).astype('int32')"
      ],
      "execution_count": 0,
      "outputs": []
    },
    {
      "cell_type": "code",
      "metadata": {
        "id": "iC1rKkkwkZmf",
        "colab_type": "code",
        "colab": {
          "base_uri": "https://localhost:8080/",
          "height": 439
        },
        "outputId": "f277908f-27e5-4a2d-c7c7-a5276677faaa"
      },
      "source": [
        "train.groupby('Survived')['family'].value_counts(), train.groupby('Survived')['alone'].value_counts()\n",
        "#отсутсвие семьи повышало шансы выжить"
      ],
      "execution_count": 33,
      "outputs": [
        {
          "output_type": "execute_result",
          "data": {
            "text/plain": [
              "(Survived  family\n",
              " 0         0         374\n",
              "           1          72\n",
              "           2          43\n",
              "           5          19\n",
              "           4          12\n",
              "           3           8\n",
              "           6           8\n",
              "           10          7\n",
              "           7           6\n",
              " 1         0         163\n",
              "           1          89\n",
              "           2          59\n",
              "           3          21\n",
              "           6           4\n",
              "           4           3\n",
              "           5           3\n",
              " Name: family, dtype: int64, Survived  alone\n",
              " 0         1        374\n",
              "           0        175\n",
              " 1         0        179\n",
              "           1        163\n",
              " Name: alone, dtype: int64)"
            ]
          },
          "metadata": {
            "tags": []
          },
          "execution_count": 33
        }
      ]
    },
    {
      "cell_type": "code",
      "metadata": {
        "id": "Ew4oM8GLkZmt",
        "colab_type": "code",
        "colab": {
          "base_uri": "https://localhost:8080/",
          "height": 350
        },
        "outputId": "5e77c0bf-1038-45d5-bc6e-0cbcf143d44f"
      },
      "source": [
        "#отдаленно чем-то походит на  нормальное \n",
        "fig, ax = plt.subplots(1, 3, figsize = (10, 5))\n",
        "sns.distplot(list(train.Age.values) + list(test.Age.values), ax = ax[0])\n",
        "ax[0].set_title('all Age')\n",
        "sns.distplot(train.Age, ax = ax[1])\n",
        "ax[1].set_title('train Age')\n",
        "sns.distplot(test.Age, ax = ax[2])\n",
        "ax[2].set_title('test.Age');"
      ],
      "execution_count": 34,
      "outputs": [
        {
          "output_type": "display_data",
          "data": {
            "image/png": "[encoded data removed]",
            "text/plain": [
              "<Figure size 720x360 with 3 Axes>"
            ]
          },
          "metadata": {
            "tags": []
          }
        }
      ]
    },
    {
      "cell_type": "code",
      "metadata": {
        "id": "HRMGSOAwkZm3",
        "colab_type": "code",
        "colab": {
          "base_uri": "https://localhost:8080/",
          "height": 334
        },
        "outputId": "da2ee793-72d5-4672-abfe-80b7e8ddee2e"
      },
      "source": [
        "#возможно нужно использовать логарифм и видны у хвоста небольшие скачки, мб какие-то выделяющиеся значения(1 класс)\n",
        "fig, ax = plt.subplots(1, 3, figsize = (10, 5))\n",
        "sns.distplot(list(train.Fare.values) + list(test.Fare.values), ax = ax[0])\n",
        "sns.distplot(train.Fare, ax = ax[1])\n",
        "sns.distplot(test.Fare, ax = ax[2]);"
      ],
      "execution_count": 35,
      "outputs": [
        {
          "output_type": "display_data",
          "data": {
            "image/png": "[encoded data removed]",
            "text/plain": [
              "<Figure size 720x360 with 3 Axes>"
            ]
          },
          "metadata": {
            "tags": []
          }
        }
      ]
    },
    {
      "cell_type": "code",
      "metadata": {
        "id": "Spn37ljZkZnB",
        "colab_type": "code",
        "colab": {
          "base_uri": "https://localhost:8080/",
          "height": 195
        },
        "outputId": "a6a08350-4297-41ba-8f31-bed804696788"
      },
      "source": [
        "train.groupby('Survived')[['Fare', 'Age', 'mean_cabin']].agg(['mean', 'median','min', 'max', 'std'])"
      ],
      "execution_count": 36,
      "outputs": [
        {
          "output_type": "execute_result",
          "data": {
            "text/html": [
              "<div>\n",
              "<style scoped>\n",
              "    .dataframe tbody tr th:only-of-type {\n",
              "        vertical-align: middle;\n",
              "    }\n",
              "\n",
              "    .dataframe tbody tr th {\n",
              "        vertical-align: top;\n",
              "    }\n",
              "\n",
              "    .dataframe thead tr th {\n",
              "        text-align: left;\n",
              "    }\n",
              "\n",
              "    .dataframe thead tr:last-of-type th {\n",
              "        text-align: right;\n",
              "    }\n",
              "</style>\n",
              "<table border=\"1\" class=\"dataframe\">\n",
              "  <thead>\n",
              "    <tr>\n",
              "      <th></th>\n",
              "      <th colspan=\"5\" halign=\"left\">Fare</th>\n",
              "      <th colspan=\"5\" halign=\"left\">Age</th>\n",
              "      <th colspan=\"5\" halign=\"left\">mean_cabin</th>\n",
              "    </tr>\n",
              "    <tr>\n",
              "      <th></th>\n",
              "      <th>mean</th>\n",
              "      <th>median</th>\n",
              "      <th>min</th>\n",
              "      <th>max</th>\n",
              "      <th>std</th>\n",
              "      <th>mean</th>\n",
              "      <th>median</th>\n",
              "      <th>min</th>\n",
              "      <th>max</th>\n",
              "      <th>std</th>\n",
              "      <th>mean</th>\n",
              "      <th>median</th>\n",
              "      <th>min</th>\n",
              "      <th>max</th>\n",
              "      <th>std</th>\n",
              "    </tr>\n",
              "    <tr>\n",
              "      <th>Survived</th>\n",
              "      <th></th>\n",
              "      <th></th>\n",
              "      <th></th>\n",
              "      <th></th>\n",
              "      <th></th>\n",
              "      <th></th>\n",
              "      <th></th>\n",
              "      <th></th>\n",
              "      <th></th>\n",
              "      <th></th>\n",
              "      <th></th>\n",
              "      <th></th>\n",
              "      <th></th>\n",
              "      <th></th>\n",
              "      <th></th>\n",
              "    </tr>\n",
              "  </thead>\n",
              "  <tbody>\n",
              "    <tr>\n",
              "      <th>0</th>\n",
              "      <td>22.117887</td>\n",
              "      <td>10.5</td>\n",
              "      <td>0.0</td>\n",
              "      <td>263.0000</td>\n",
              "      <td>31.388207</td>\n",
              "      <td>30.257916</td>\n",
              "      <td>28.724891</td>\n",
              "      <td>1.00</td>\n",
              "      <td>74.0</td>\n",
              "      <td>12.935571</td>\n",
              "      <td>5.601093</td>\n",
              "      <td>-1.0</td>\n",
              "      <td>-1.0</td>\n",
              "      <td>128.0</td>\n",
              "      <td>21.576195</td>\n",
              "    </tr>\n",
              "    <tr>\n",
              "      <th>1</th>\n",
              "      <td>48.395408</td>\n",
              "      <td>26.0</td>\n",
              "      <td>0.0</td>\n",
              "      <td>512.3292</td>\n",
              "      <td>66.596998</td>\n",
              "      <td>28.100624</td>\n",
              "      <td>28.362445</td>\n",
              "      <td>0.42</td>\n",
              "      <td>80.0</td>\n",
              "      <td>14.408899</td>\n",
              "      <td>18.630117</td>\n",
              "      <td>-1.0</td>\n",
              "      <td>-1.0</td>\n",
              "      <td>148.0</td>\n",
              "      <td>33.037983</td>\n",
              "    </tr>\n",
              "  </tbody>\n",
              "</table>\n",
              "</div>"
            ],
            "text/plain": [
              "               Fare                                         Age             \\\n",
              "               mean median  min       max        std       mean     median   \n",
              "Survived                                                                     \n",
              "0         22.117887   10.5  0.0  263.0000  31.388207  30.257916  28.724891   \n",
              "1         48.395408   26.0  0.0  512.3292  66.596998  28.100624  28.362445   \n",
              "\n",
              "                                mean_cabin                                \n",
              "           min   max        std       mean median  min    max        std  \n",
              "Survived                                                                  \n",
              "0         1.00  74.0  12.935571   5.601093   -1.0 -1.0  128.0  21.576195  \n",
              "1         0.42  80.0  14.408899  18.630117   -1.0 -1.0  148.0  33.037983  "
            ]
          },
          "metadata": {
            "tags": []
          },
          "execution_count": 36
        }
      ]
    },
    {
      "cell_type": "code",
      "metadata": {
        "id": "Jke--uxmkZnK",
        "colab_type": "code",
        "colab": {}
      },
      "source": [
        "train['ticket_number'] = train.Ticket.apply(lambda x: int(x.lower().replace('/', '').replace('.', '').split(' ')[1]) if len(x.split(' ')) == 2 else -1)\n",
        "test['ticket_number'] = test.Ticket.apply(lambda x: int(x.lower().replace('/', '').replace('.', '').split(' ')[1]) if len(x.split(' ')) == 2 else -1)"
      ],
      "execution_count": 0,
      "outputs": []
    },
    {
      "cell_type": "code",
      "metadata": {
        "scrolled": true,
        "id": "z5af9Rs-kZnR",
        "colab_type": "code",
        "colab": {}
      },
      "source": [
        "train['ticket_prefix'] = train.Ticket.apply(lambda x: x.lower().replace('/', '').replace('.', '').split(' ')[0] if len(x.split(' ')) == 2 else np.nan)\n",
        "test['ticket_prefix'] = train.Ticket.apply(lambda x: x.lower().replace('/', '').replace('.', '').split(' ')[0] if len(x.split(' ')) == 2 else np.nan)"
      ],
      "execution_count": 0,
      "outputs": []
    },
    {
      "cell_type": "code",
      "metadata": {
        "id": "vHKaMRxJkZnX",
        "colab_type": "code",
        "colab": {
          "base_uri": "https://localhost:8080/",
          "height": 397
        },
        "outputId": "d501e877-1cac-4ad3-ffc3-d5bd2602544c"
      },
      "source": [
        "fig, ax = plt.subplots(1, 2, figsize = (10, 5))\n",
        "sns.heatmap(train[['Fare', 'Age', 'mean_cabin', 'ticket_number']].corr(), ax = ax[0])\n",
        "ax[0].set_title('train')\n",
        "sns.heatmap(test[['Fare', 'Age', 'mean_cabin', 'ticket_number']].corr(), ax = ax[1])\n",
        "ax[1].set_title('test');"
      ],
      "execution_count": 39,
      "outputs": [
        {
          "output_type": "display_data",
          "data": {
            "image/png": "[encoded data removed]",
            "text/plain": [
              "<Figure size 720x360 with 4 Axes>"
            ]
          },
          "metadata": {
            "tags": []
          }
        }
      ]
    },
    {
      "cell_type": "code",
      "metadata": {
        "id": "uc0xcPugkZnc",
        "colab_type": "code",
        "colab": {}
      },
      "source": [
        "#train['Age_minus_Fare'] = train.Fare - train.Age\n",
        "#train['Age_minus_Cabin'] = train.Age - train.mean_cabin"
      ],
      "execution_count": 0,
      "outputs": []
    },
    {
      "cell_type": "code",
      "metadata": {
        "id": "PN1cKBGdkZnj",
        "colab_type": "code",
        "colab": {
          "base_uri": "https://localhost:8080/",
          "height": 567
        },
        "outputId": "a149bca4-0eaa-47ea-cb73-b386a1afff9f"
      },
      "source": [
        "sns.pairplot(train, vars = ['Fare', 'Age', 'mean_cabin'], kind = 'reg', hue = 'Survived');"
      ],
      "execution_count": 41,
      "outputs": [
        {
          "output_type": "display_data",
          "data": {
            "image/png": "[encoded data removed]",
            "text/plain": [
              "<Figure size 591.875x540 with 12 Axes>"
            ]
          },
          "metadata": {
            "tags": []
          }
        }
      ]
    },
    {
      "cell_type": "code",
      "metadata": {
        "id": "lBMLzeCJkZnp",
        "colab_type": "code",
        "colab": {
          "base_uri": "https://localhost:8080/",
          "height": 504
        },
        "outputId": "c50c6c89-1800-4513-a1b0-92c0405e9a43"
      },
      "source": [
        "train.head(5)"
      ],
      "execution_count": 42,
      "outputs": [
        {
          "output_type": "execute_result",
          "data": {
            "text/html": [
              "<div>\n",
              "<style scoped>\n",
              "    .dataframe tbody tr th:only-of-type {\n",
              "        vertical-align: middle;\n",
              "    }\n",
              "\n",
              "    .dataframe tbody tr th {\n",
              "        vertical-align: top;\n",
              "    }\n",
              "\n",
              "    .dataframe thead th {\n",
              "        text-align: right;\n",
              "    }\n",
              "</style>\n",
              "<table border=\"1\" class=\"dataframe\">\n",
              "  <thead>\n",
              "    <tr style=\"text-align: right;\">\n",
              "      <th></th>\n",
              "      <th>PassengerId</th>\n",
              "      <th>Survived</th>\n",
              "      <th>Pclass</th>\n",
              "      <th>Name</th>\n",
              "      <th>Sex</th>\n",
              "      <th>Age</th>\n",
              "      <th>SibSp</th>\n",
              "      <th>Parch</th>\n",
              "      <th>Ticket</th>\n",
              "      <th>Fare</th>\n",
              "      <th>Cabin</th>\n",
              "      <th>Embarked</th>\n",
              "      <th>cabin_is_none</th>\n",
              "      <th>status_person</th>\n",
              "      <th>count_cabin</th>\n",
              "      <th>is_A</th>\n",
              "      <th>is_B</th>\n",
              "      <th>is_C</th>\n",
              "      <th>is_D</th>\n",
              "      <th>is_E</th>\n",
              "      <th>is_F</th>\n",
              "      <th>is_G</th>\n",
              "      <th>mean_cabin</th>\n",
              "      <th>family</th>\n",
              "      <th>alone</th>\n",
              "      <th>ticket_number</th>\n",
              "      <th>ticket_prefix</th>\n",
              "    </tr>\n",
              "  </thead>\n",
              "  <tbody>\n",
              "    <tr>\n",
              "      <th>0</th>\n",
              "      <td>1</td>\n",
              "      <td>0</td>\n",
              "      <td>3</td>\n",
              "      <td>Braund, Mr. Owen Harris</td>\n",
              "      <td>1</td>\n",
              "      <td>22.0</td>\n",
              "      <td>1</td>\n",
              "      <td>0</td>\n",
              "      <td>A/5 21171</td>\n",
              "      <td>7.2500</td>\n",
              "      <td>NaN</td>\n",
              "      <td>1</td>\n",
              "      <td>1</td>\n",
              "      <td>mr</td>\n",
              "      <td>0</td>\n",
              "      <td>0</td>\n",
              "      <td>0</td>\n",
              "      <td>0</td>\n",
              "      <td>0</td>\n",
              "      <td>0</td>\n",
              "      <td>0</td>\n",
              "      <td>0</td>\n",
              "      <td>-1.0</td>\n",
              "      <td>1</td>\n",
              "      <td>0</td>\n",
              "      <td>21171</td>\n",
              "      <td>a5</td>\n",
              "    </tr>\n",
              "    <tr>\n",
              "      <th>1</th>\n",
              "      <td>2</td>\n",
              "      <td>1</td>\n",
              "      <td>1</td>\n",
              "      <td>Cumings, Mrs. John Bradley (Florence Briggs Th...</td>\n",
              "      <td>0</td>\n",
              "      <td>38.0</td>\n",
              "      <td>1</td>\n",
              "      <td>0</td>\n",
              "      <td>PC 17599</td>\n",
              "      <td>71.2833</td>\n",
              "      <td>C85</td>\n",
              "      <td>2</td>\n",
              "      <td>0</td>\n",
              "      <td>ms</td>\n",
              "      <td>1</td>\n",
              "      <td>0</td>\n",
              "      <td>0</td>\n",
              "      <td>1</td>\n",
              "      <td>0</td>\n",
              "      <td>0</td>\n",
              "      <td>0</td>\n",
              "      <td>0</td>\n",
              "      <td>85.0</td>\n",
              "      <td>1</td>\n",
              "      <td>0</td>\n",
              "      <td>17599</td>\n",
              "      <td>pc</td>\n",
              "    </tr>\n",
              "    <tr>\n",
              "      <th>2</th>\n",
              "      <td>3</td>\n",
              "      <td>1</td>\n",
              "      <td>3</td>\n",
              "      <td>Heikkinen, Miss. Laina</td>\n",
              "      <td>0</td>\n",
              "      <td>26.0</td>\n",
              "      <td>0</td>\n",
              "      <td>0</td>\n",
              "      <td>STON/O2. 3101282</td>\n",
              "      <td>7.9250</td>\n",
              "      <td>NaN</td>\n",
              "      <td>1</td>\n",
              "      <td>1</td>\n",
              "      <td>miss</td>\n",
              "      <td>0</td>\n",
              "      <td>0</td>\n",
              "      <td>0</td>\n",
              "      <td>0</td>\n",
              "      <td>0</td>\n",
              "      <td>0</td>\n",
              "      <td>0</td>\n",
              "      <td>0</td>\n",
              "      <td>-1.0</td>\n",
              "      <td>0</td>\n",
              "      <td>1</td>\n",
              "      <td>3101282</td>\n",
              "      <td>stono2</td>\n",
              "    </tr>\n",
              "    <tr>\n",
              "      <th>3</th>\n",
              "      <td>4</td>\n",
              "      <td>1</td>\n",
              "      <td>1</td>\n",
              "      <td>Futrelle, Mrs. Jacques Heath (Lily May Peel)</td>\n",
              "      <td>0</td>\n",
              "      <td>35.0</td>\n",
              "      <td>1</td>\n",
              "      <td>0</td>\n",
              "      <td>113803</td>\n",
              "      <td>53.1000</td>\n",
              "      <td>C123</td>\n",
              "      <td>1</td>\n",
              "      <td>0</td>\n",
              "      <td>ms</td>\n",
              "      <td>1</td>\n",
              "      <td>0</td>\n",
              "      <td>0</td>\n",
              "      <td>1</td>\n",
              "      <td>0</td>\n",
              "      <td>0</td>\n",
              "      <td>0</td>\n",
              "      <td>0</td>\n",
              "      <td>123.0</td>\n",
              "      <td>1</td>\n",
              "      <td>0</td>\n",
              "      <td>-1</td>\n",
              "      <td>NaN</td>\n",
              "    </tr>\n",
              "    <tr>\n",
              "      <th>4</th>\n",
              "      <td>5</td>\n",
              "      <td>0</td>\n",
              "      <td>3</td>\n",
              "      <td>Allen, Mr. William Henry</td>\n",
              "      <td>1</td>\n",
              "      <td>35.0</td>\n",
              "      <td>0</td>\n",
              "      <td>0</td>\n",
              "      <td>373450</td>\n",
              "      <td>8.0500</td>\n",
              "      <td>NaN</td>\n",
              "      <td>1</td>\n",
              "      <td>1</td>\n",
              "      <td>mr</td>\n",
              "      <td>0</td>\n",
              "      <td>0</td>\n",
              "      <td>0</td>\n",
              "      <td>0</td>\n",
              "      <td>0</td>\n",
              "      <td>0</td>\n",
              "      <td>0</td>\n",
              "      <td>0</td>\n",
              "      <td>-1.0</td>\n",
              "      <td>0</td>\n",
              "      <td>1</td>\n",
              "      <td>-1</td>\n",
              "      <td>NaN</td>\n",
              "    </tr>\n",
              "  </tbody>\n",
              "</table>\n",
              "</div>"
            ],
            "text/plain": [
              "   PassengerId  Survived  Pclass  \\\n",
              "0            1         0       3   \n",
              "1            2         1       1   \n",
              "2            3         1       3   \n",
              "3            4         1       1   \n",
              "4            5         0       3   \n",
              "\n",
              "                                                Name  Sex   Age  SibSp  Parch  \\\n",
              "0                            Braund, Mr. Owen Harris    1  22.0      1      0   \n",
              "1  Cumings, Mrs. John Bradley (Florence Briggs Th...    0  38.0      1      0   \n",
              "2                             Heikkinen, Miss. Laina    0  26.0      0      0   \n",
              "3       Futrelle, Mrs. Jacques Heath (Lily May Peel)    0  35.0      1      0   \n",
              "4                           Allen, Mr. William Henry    1  35.0      0      0   \n",
              "\n",
              "             Ticket     Fare Cabin  Embarked  cabin_is_none status_person  \\\n",
              "0         A/5 21171   7.2500   NaN         1              1            mr   \n",
              "1          PC 17599  71.2833   C85         2              0            ms   \n",
              "2  STON/O2. 3101282   7.9250   NaN         1              1          miss   \n",
              "3            113803  53.1000  C123         1              0            ms   \n",
              "4            373450   8.0500   NaN         1              1            mr   \n",
              "\n",
              "   count_cabin  is_A  is_B  is_C  is_D  is_E  is_F  is_G  mean_cabin  family  \\\n",
              "0            0     0     0     0     0     0     0     0        -1.0       1   \n",
              "1            1     0     0     1     0     0     0     0        85.0       1   \n",
              "2            0     0     0     0     0     0     0     0        -1.0       0   \n",
              "3            1     0     0     1     0     0     0     0       123.0       1   \n",
              "4            0     0     0     0     0     0     0     0        -1.0       0   \n",
              "\n",
              "   alone  ticket_number ticket_prefix  \n",
              "0      0          21171            a5  \n",
              "1      0          17599            pc  \n",
              "2      1        3101282        stono2  \n",
              "3      0             -1           NaN  \n",
              "4      1             -1           NaN  "
            ]
          },
          "metadata": {
            "tags": []
          },
          "execution_count": 42
        }
      ]
    },
    {
      "cell_type": "code",
      "metadata": {
        "id": "el3wZgbzkZnw",
        "colab_type": "code",
        "colab": {
          "base_uri": "https://localhost:8080/",
          "height": 35
        },
        "outputId": "ea6d6f2e-deb9-4635-f22f-ec853491fc84"
      },
      "source": [
        "def dice(series1, series2):\n",
        "    intersection = np.sum(series1 * series2)                  \n",
        "    return 2 * intersection  / (np.sum(series1) + np.sum(series2))\n",
        "\n",
        "def jaccard(series1, series2):\n",
        "    intersection = np.sum(series1 * series2)\n",
        "    union = np.sum(series1 + series2)\n",
        "    return intersection / (union - intersection)\n",
        "\n",
        "\n",
        "\n",
        "jaccard(train.Survived, train.Sex), dice(train.Survived, train.cabin_is_none)                                           "
      ],
      "execution_count": 43,
      "outputs": [
        {
          "output_type": "execute_result",
          "data": {
            "text/plain": [
              "(0.1345679012345679, 0.4003887269193392)"
            ]
          },
          "metadata": {
            "tags": []
          },
          "execution_count": 43
        }
      ]
    },
    {
      "cell_type": "code",
      "metadata": {
        "id": "gC1yTjMgkZn4",
        "colab_type": "code",
        "colab": {}
      },
      "source": [
        "bin_features = ['Survived', 'Sex', 'cabin_is_none', 'is_A',\n",
        "       'is_B', 'is_C', 'is_D', 'is_E', 'is_F', 'is_G', 'alone']\n",
        "\n",
        "result_bin_metrics = pd.DataFrame(columns = ['feature1', 'feature2', 'jaccard', 'dice'])\n",
        "\n",
        "for f1, f2 in itertools.combinations(bin_features, 2):\n",
        "    result_bin_metrics = result_bin_metrics.append({\n",
        "        'feature1': f1,\n",
        "        'feature2': f2,\n",
        "        'jaccard': jaccard(train[f1], train[f2]), \n",
        "        'dice': dice(train[f1], train[f2]) \n",
        "    }, ignore_index = True)"
      ],
      "execution_count": 0,
      "outputs": []
    },
    {
      "cell_type": "code",
      "metadata": {
        "id": "aiN7Fo-4kZn-",
        "colab_type": "code",
        "colab": {
          "base_uri": "https://localhost:8080/",
          "height": 1000
        },
        "outputId": "8b882ee8-97ae-436e-87c2-2c83a8a7cda6"
      },
      "source": [
        "result_bin_metrics.sort_values(by = 'dice', ascending = False)\n",
        "#отсутсвие указанной кабины и семьи коррелирует с таргетом"
      ],
      "execution_count": 45,
      "outputs": [
        {
          "output_type": "execute_result",
          "data": {
            "text/html": [
              "<div>\n",
              "<style scoped>\n",
              "    .dataframe tbody tr th:only-of-type {\n",
              "        vertical-align: middle;\n",
              "    }\n",
              "\n",
              "    .dataframe tbody tr th {\n",
              "        vertical-align: top;\n",
              "    }\n",
              "\n",
              "    .dataframe thead th {\n",
              "        text-align: right;\n",
              "    }\n",
              "</style>\n",
              "<table border=\"1\" class=\"dataframe\">\n",
              "  <thead>\n",
              "    <tr style=\"text-align: right;\">\n",
              "      <th></th>\n",
              "      <th>feature1</th>\n",
              "      <th>feature2</th>\n",
              "      <th>jaccard</th>\n",
              "      <th>dice</th>\n",
              "    </tr>\n",
              "  </thead>\n",
              "  <tbody>\n",
              "    <tr>\n",
              "      <th>10</th>\n",
              "      <td>Sex</td>\n",
              "      <td>cabin_is_none</td>\n",
              "      <td>0.591940</td>\n",
              "      <td>0.743671</td>\n",
              "    </tr>\n",
              "    <tr>\n",
              "      <th>18</th>\n",
              "      <td>Sex</td>\n",
              "      <td>alone</td>\n",
              "      <td>0.584637</td>\n",
              "      <td>0.737882</td>\n",
              "    </tr>\n",
              "    <tr>\n",
              "      <th>26</th>\n",
              "      <td>cabin_is_none</td>\n",
              "      <td>alone</td>\n",
              "      <td>0.567222</td>\n",
              "      <td>0.723856</td>\n",
              "    </tr>\n",
              "    <tr>\n",
              "      <th>1</th>\n",
              "      <td>Survived</td>\n",
              "      <td>cabin_is_none</td>\n",
              "      <td>0.250304</td>\n",
              "      <td>0.400389</td>\n",
              "    </tr>\n",
              "    <tr>\n",
              "      <th>9</th>\n",
              "      <td>Survived</td>\n",
              "      <td>alone</td>\n",
              "      <td>0.227654</td>\n",
              "      <td>0.370876</td>\n",
              "    </tr>\n",
              "    <tr>\n",
              "      <th>52</th>\n",
              "      <td>is_F</td>\n",
              "      <td>is_G</td>\n",
              "      <td>0.176471</td>\n",
              "      <td>0.300000</td>\n",
              "    </tr>\n",
              "    <tr>\n",
              "      <th>0</th>\n",
              "      <td>Survived</td>\n",
              "      <td>Sex</td>\n",
              "      <td>0.134568</td>\n",
              "      <td>0.237214</td>\n",
              "    </tr>\n",
              "    <tr>\n",
              "      <th>3</th>\n",
              "      <td>Survived</td>\n",
              "      <td>is_B</td>\n",
              "      <td>0.134078</td>\n",
              "      <td>0.236453</td>\n",
              "    </tr>\n",
              "    <tr>\n",
              "      <th>4</th>\n",
              "      <td>Survived</td>\n",
              "      <td>is_C</td>\n",
              "      <td>0.110215</td>\n",
              "      <td>0.198547</td>\n",
              "    </tr>\n",
              "    <tr>\n",
              "      <th>5</th>\n",
              "      <td>Survived</td>\n",
              "      <td>is_D</td>\n",
              "      <td>0.074286</td>\n",
              "      <td>0.138298</td>\n",
              "    </tr>\n",
              "    <tr>\n",
              "      <th>6</th>\n",
              "      <td>Survived</td>\n",
              "      <td>is_E</td>\n",
              "      <td>0.071429</td>\n",
              "      <td>0.133333</td>\n",
              "    </tr>\n",
              "    <tr>\n",
              "      <th>13</th>\n",
              "      <td>Sex</td>\n",
              "      <td>is_C</td>\n",
              "      <td>0.060556</td>\n",
              "      <td>0.114198</td>\n",
              "    </tr>\n",
              "    <tr>\n",
              "      <th>12</th>\n",
              "      <td>Sex</td>\n",
              "      <td>is_B</td>\n",
              "      <td>0.045677</td>\n",
              "      <td>0.087363</td>\n",
              "    </tr>\n",
              "    <tr>\n",
              "      <th>39</th>\n",
              "      <td>is_B</td>\n",
              "      <td>alone</td>\n",
              "      <td>0.043403</td>\n",
              "      <td>0.083195</td>\n",
              "    </tr>\n",
              "    <tr>\n",
              "      <th>44</th>\n",
              "      <td>is_C</td>\n",
              "      <td>alone</td>\n",
              "      <td>0.037543</td>\n",
              "      <td>0.072368</td>\n",
              "    </tr>\n",
              "    <tr>\n",
              "      <th>51</th>\n",
              "      <td>is_E</td>\n",
              "      <td>alone</td>\n",
              "      <td>0.030741</td>\n",
              "      <td>0.059649</td>\n",
              "    </tr>\n",
              "    <tr>\n",
              "      <th>15</th>\n",
              "      <td>Sex</td>\n",
              "      <td>is_E</td>\n",
              "      <td>0.028668</td>\n",
              "      <td>0.055738</td>\n",
              "    </tr>\n",
              "    <tr>\n",
              "      <th>14</th>\n",
              "      <td>Sex</td>\n",
              "      <td>is_D</td>\n",
              "      <td>0.026891</td>\n",
              "      <td>0.052373</td>\n",
              "    </tr>\n",
              "    <tr>\n",
              "      <th>11</th>\n",
              "      <td>Sex</td>\n",
              "      <td>is_A</td>\n",
              "      <td>0.024221</td>\n",
              "      <td>0.047297</td>\n",
              "    </tr>\n",
              "    <tr>\n",
              "      <th>48</th>\n",
              "      <td>is_D</td>\n",
              "      <td>alone</td>\n",
              "      <td>0.023297</td>\n",
              "      <td>0.045534</td>\n",
              "    </tr>\n",
              "    <tr>\n",
              "      <th>7</th>\n",
              "      <td>Survived</td>\n",
              "      <td>is_F</td>\n",
              "      <td>0.023055</td>\n",
              "      <td>0.045070</td>\n",
              "    </tr>\n",
              "    <tr>\n",
              "      <th>49</th>\n",
              "      <td>is_E</td>\n",
              "      <td>is_F</td>\n",
              "      <td>0.022222</td>\n",
              "      <td>0.043478</td>\n",
              "    </tr>\n",
              "    <tr>\n",
              "      <th>33</th>\n",
              "      <td>is_A</td>\n",
              "      <td>alone</td>\n",
              "      <td>0.022222</td>\n",
              "      <td>0.043478</td>\n",
              "    </tr>\n",
              "    <tr>\n",
              "      <th>2</th>\n",
              "      <td>Survived</td>\n",
              "      <td>is_A</td>\n",
              "      <td>0.020000</td>\n",
              "      <td>0.039216</td>\n",
              "    </tr>\n",
              "    <tr>\n",
              "      <th>16</th>\n",
              "      <td>Sex</td>\n",
              "      <td>is_F</td>\n",
              "      <td>0.013746</td>\n",
              "      <td>0.027119</td>\n",
              "    </tr>\n",
              "    <tr>\n",
              "      <th>53</th>\n",
              "      <td>is_F</td>\n",
              "      <td>alone</td>\n",
              "      <td>0.012891</td>\n",
              "      <td>0.025455</td>\n",
              "    </tr>\n",
              "    <tr>\n",
              "      <th>8</th>\n",
              "      <td>Survived</td>\n",
              "      <td>is_G</td>\n",
              "      <td>0.005764</td>\n",
              "      <td>0.011461</td>\n",
              "    </tr>\n",
              "    <tr>\n",
              "      <th>54</th>\n",
              "      <td>is_G</td>\n",
              "      <td>alone</td>\n",
              "      <td>0.005545</td>\n",
              "      <td>0.011029</td>\n",
              "    </tr>\n",
              "    <tr>\n",
              "      <th>17</th>\n",
              "      <td>Sex</td>\n",
              "      <td>is_G</td>\n",
              "      <td>0.005164</td>\n",
              "      <td>0.010274</td>\n",
              "    </tr>\n",
              "    <tr>\n",
              "      <th>28</th>\n",
              "      <td>is_A</td>\n",
              "      <td>is_C</td>\n",
              "      <td>0.000000</td>\n",
              "      <td>0.000000</td>\n",
              "    </tr>\n",
              "    <tr>\n",
              "      <th>42</th>\n",
              "      <td>is_C</td>\n",
              "      <td>is_F</td>\n",
              "      <td>0.000000</td>\n",
              "      <td>0.000000</td>\n",
              "    </tr>\n",
              "    <tr>\n",
              "      <th>19</th>\n",
              "      <td>cabin_is_none</td>\n",
              "      <td>is_A</td>\n",
              "      <td>0.000000</td>\n",
              "      <td>0.000000</td>\n",
              "    </tr>\n",
              "    <tr>\n",
              "      <th>20</th>\n",
              "      <td>cabin_is_none</td>\n",
              "      <td>is_B</td>\n",
              "      <td>0.000000</td>\n",
              "      <td>0.000000</td>\n",
              "    </tr>\n",
              "    <tr>\n",
              "      <th>50</th>\n",
              "      <td>is_E</td>\n",
              "      <td>is_G</td>\n",
              "      <td>0.000000</td>\n",
              "      <td>0.000000</td>\n",
              "    </tr>\n",
              "    <tr>\n",
              "      <th>21</th>\n",
              "      <td>cabin_is_none</td>\n",
              "      <td>is_C</td>\n",
              "      <td>0.000000</td>\n",
              "      <td>0.000000</td>\n",
              "    </tr>\n",
              "    <tr>\n",
              "      <th>22</th>\n",
              "      <td>cabin_is_none</td>\n",
              "      <td>is_D</td>\n",
              "      <td>0.000000</td>\n",
              "      <td>0.000000</td>\n",
              "    </tr>\n",
              "    <tr>\n",
              "      <th>47</th>\n",
              "      <td>is_D</td>\n",
              "      <td>is_G</td>\n",
              "      <td>0.000000</td>\n",
              "      <td>0.000000</td>\n",
              "    </tr>\n",
              "    <tr>\n",
              "      <th>46</th>\n",
              "      <td>is_D</td>\n",
              "      <td>is_F</td>\n",
              "      <td>0.000000</td>\n",
              "      <td>0.000000</td>\n",
              "    </tr>\n",
              "    <tr>\n",
              "      <th>45</th>\n",
              "      <td>is_D</td>\n",
              "      <td>is_E</td>\n",
              "      <td>0.000000</td>\n",
              "      <td>0.000000</td>\n",
              "    </tr>\n",
              "    <tr>\n",
              "      <th>23</th>\n",
              "      <td>cabin_is_none</td>\n",
              "      <td>is_E</td>\n",
              "      <td>0.000000</td>\n",
              "      <td>0.000000</td>\n",
              "    </tr>\n",
              "    <tr>\n",
              "      <th>43</th>\n",
              "      <td>is_C</td>\n",
              "      <td>is_G</td>\n",
              "      <td>0.000000</td>\n",
              "      <td>0.000000</td>\n",
              "    </tr>\n",
              "    <tr>\n",
              "      <th>41</th>\n",
              "      <td>is_C</td>\n",
              "      <td>is_E</td>\n",
              "      <td>0.000000</td>\n",
              "      <td>0.000000</td>\n",
              "    </tr>\n",
              "    <tr>\n",
              "      <th>29</th>\n",
              "      <td>is_A</td>\n",
              "      <td>is_D</td>\n",
              "      <td>0.000000</td>\n",
              "      <td>0.000000</td>\n",
              "    </tr>\n",
              "    <tr>\n",
              "      <th>40</th>\n",
              "      <td>is_C</td>\n",
              "      <td>is_D</td>\n",
              "      <td>0.000000</td>\n",
              "      <td>0.000000</td>\n",
              "    </tr>\n",
              "    <tr>\n",
              "      <th>24</th>\n",
              "      <td>cabin_is_none</td>\n",
              "      <td>is_F</td>\n",
              "      <td>0.000000</td>\n",
              "      <td>0.000000</td>\n",
              "    </tr>\n",
              "    <tr>\n",
              "      <th>38</th>\n",
              "      <td>is_B</td>\n",
              "      <td>is_G</td>\n",
              "      <td>0.000000</td>\n",
              "      <td>0.000000</td>\n",
              "    </tr>\n",
              "    <tr>\n",
              "      <th>37</th>\n",
              "      <td>is_B</td>\n",
              "      <td>is_F</td>\n",
              "      <td>0.000000</td>\n",
              "      <td>0.000000</td>\n",
              "    </tr>\n",
              "    <tr>\n",
              "      <th>36</th>\n",
              "      <td>is_B</td>\n",
              "      <td>is_E</td>\n",
              "      <td>0.000000</td>\n",
              "      <td>0.000000</td>\n",
              "    </tr>\n",
              "    <tr>\n",
              "      <th>35</th>\n",
              "      <td>is_B</td>\n",
              "      <td>is_D</td>\n",
              "      <td>0.000000</td>\n",
              "      <td>0.000000</td>\n",
              "    </tr>\n",
              "    <tr>\n",
              "      <th>34</th>\n",
              "      <td>is_B</td>\n",
              "      <td>is_C</td>\n",
              "      <td>0.000000</td>\n",
              "      <td>0.000000</td>\n",
              "    </tr>\n",
              "    <tr>\n",
              "      <th>25</th>\n",
              "      <td>cabin_is_none</td>\n",
              "      <td>is_G</td>\n",
              "      <td>0.000000</td>\n",
              "      <td>0.000000</td>\n",
              "    </tr>\n",
              "    <tr>\n",
              "      <th>32</th>\n",
              "      <td>is_A</td>\n",
              "      <td>is_G</td>\n",
              "      <td>0.000000</td>\n",
              "      <td>0.000000</td>\n",
              "    </tr>\n",
              "    <tr>\n",
              "      <th>31</th>\n",
              "      <td>is_A</td>\n",
              "      <td>is_F</td>\n",
              "      <td>0.000000</td>\n",
              "      <td>0.000000</td>\n",
              "    </tr>\n",
              "    <tr>\n",
              "      <th>30</th>\n",
              "      <td>is_A</td>\n",
              "      <td>is_E</td>\n",
              "      <td>0.000000</td>\n",
              "      <td>0.000000</td>\n",
              "    </tr>\n",
              "    <tr>\n",
              "      <th>27</th>\n",
              "      <td>is_A</td>\n",
              "      <td>is_B</td>\n",
              "      <td>0.000000</td>\n",
              "      <td>0.000000</td>\n",
              "    </tr>\n",
              "  </tbody>\n",
              "</table>\n",
              "</div>"
            ],
            "text/plain": [
              "         feature1       feature2   jaccard      dice\n",
              "10            Sex  cabin_is_none  0.591940  0.743671\n",
              "18            Sex          alone  0.584637  0.737882\n",
              "26  cabin_is_none          alone  0.567222  0.723856\n",
              "1        Survived  cabin_is_none  0.250304  0.400389\n",
              "9        Survived          alone  0.227654  0.370876\n",
              "52           is_F           is_G  0.176471  0.300000\n",
              "0        Survived            Sex  0.134568  0.237214\n",
              "3        Survived           is_B  0.134078  0.236453\n",
              "4        Survived           is_C  0.110215  0.198547\n",
              "5        Survived           is_D  0.074286  0.138298\n",
              "6        Survived           is_E  0.071429  0.133333\n",
              "13            Sex           is_C  0.060556  0.114198\n",
              "12            Sex           is_B  0.045677  0.087363\n",
              "39           is_B          alone  0.043403  0.083195\n",
              "44           is_C          alone  0.037543  0.072368\n",
              "51           is_E          alone  0.030741  0.059649\n",
              "15            Sex           is_E  0.028668  0.055738\n",
              "14            Sex           is_D  0.026891  0.052373\n",
              "11            Sex           is_A  0.024221  0.047297\n",
              "48           is_D          alone  0.023297  0.045534\n",
              "7        Survived           is_F  0.023055  0.045070\n",
              "49           is_E           is_F  0.022222  0.043478\n",
              "33           is_A          alone  0.022222  0.043478\n",
              "2        Survived           is_A  0.020000  0.039216\n",
              "16            Sex           is_F  0.013746  0.027119\n",
              "53           is_F          alone  0.012891  0.025455\n",
              "8        Survived           is_G  0.005764  0.011461\n",
              "54           is_G          alone  0.005545  0.011029\n",
              "17            Sex           is_G  0.005164  0.010274\n",
              "28           is_A           is_C  0.000000  0.000000\n",
              "42           is_C           is_F  0.000000  0.000000\n",
              "19  cabin_is_none           is_A  0.000000  0.000000\n",
              "20  cabin_is_none           is_B  0.000000  0.000000\n",
              "50           is_E           is_G  0.000000  0.000000\n",
              "21  cabin_is_none           is_C  0.000000  0.000000\n",
              "22  cabin_is_none           is_D  0.000000  0.000000\n",
              "47           is_D           is_G  0.000000  0.000000\n",
              "46           is_D           is_F  0.000000  0.000000\n",
              "45           is_D           is_E  0.000000  0.000000\n",
              "23  cabin_is_none           is_E  0.000000  0.000000\n",
              "43           is_C           is_G  0.000000  0.000000\n",
              "41           is_C           is_E  0.000000  0.000000\n",
              "29           is_A           is_D  0.000000  0.000000\n",
              "40           is_C           is_D  0.000000  0.000000\n",
              "24  cabin_is_none           is_F  0.000000  0.000000\n",
              "38           is_B           is_G  0.000000  0.000000\n",
              "37           is_B           is_F  0.000000  0.000000\n",
              "36           is_B           is_E  0.000000  0.000000\n",
              "35           is_B           is_D  0.000000  0.000000\n",
              "34           is_B           is_C  0.000000  0.000000\n",
              "25  cabin_is_none           is_G  0.000000  0.000000\n",
              "32           is_A           is_G  0.000000  0.000000\n",
              "31           is_A           is_F  0.000000  0.000000\n",
              "30           is_A           is_E  0.000000  0.000000\n",
              "27           is_A           is_B  0.000000  0.000000"
            ]
          },
          "metadata": {
            "tags": []
          },
          "execution_count": 45
        }
      ]
    },
    {
      "cell_type": "code",
      "metadata": {
        "id": "ge35JARJkZoJ",
        "colab_type": "code",
        "colab": {
          "base_uri": "https://localhost:8080/",
          "height": 164
        },
        "outputId": "91a5d255-c43b-43d5-da34-b59e1fe28442"
      },
      "source": [
        "def bayes_variable(data: 'pd.DataFrame', x: str, y: str) -> None:\n",
        "    l = len(train)\n",
        "    priory = {val: len(data[data[x] == val])/ l for val in data[x].unique()}\n",
        "    group = train.groupby(x)[y].value_counts()\n",
        "    for i in data[y].unique():\n",
        "        full = sum([val * group.get((key, i), 0) / group.get(key).sum() for key, val in priory.items()])\n",
        "        for key in priory.keys():\n",
        "            posterior = group.get((key, i), 0) / group.get(key).sum() * priory.get(key)\n",
        "            print(f'вероятность {y} = {i} при {x} = {key} : {posterior}')\n",
        "            \n",
        "bayes_variable(data = train, x = 'is_C', y = 'Survived')\n",
        "#для is_С 2 и 3 равны "
      ],
      "execution_count": 46,
      "outputs": [
        {
          "output_type": "stream",
          "text": [
            "вероятность Survived = 0 при is_C = 0 : 0.5892255892255892\n",
            "вероятность Survived = 0 при is_C = 1 : 0.022446689113355782\n",
            "вероятность Survived = 0 при is_C = 3 : 0.002244668911335578\n",
            "вероятность Survived = 0 при is_C = 2 : 0.002244668911335578\n",
            "вероятность Survived = 1 при is_C = 0 : 0.3445566778900112\n",
            "вероятность Survived = 1 при is_C = 1 : 0.03479236812570146\n",
            "вероятность Survived = 1 при is_C = 3 : 0.002244668911335578\n",
            "вероятность Survived = 1 при is_C = 2 : 0.002244668911335578\n"
          ],
          "name": "stdout"
        }
      ]
    },
    {
      "cell_type": "code",
      "metadata": {
        "id": "WBM9vbDDkZoQ",
        "colab_type": "code",
        "colab": {
          "base_uri": "https://localhost:8080/",
          "height": 219
        },
        "outputId": "7e48c26f-b9ad-48f1-8fdb-ffd6b450ddce"
      },
      "source": [
        "train.groupby('Survived')['is_B'].value_counts()\n",
        "#для B и С объединить мальние классы, тк они сопоставимы "
      ],
      "execution_count": 47,
      "outputs": [
        {
          "output_type": "execute_result",
          "data": {
            "text/plain": [
              "Survived  is_B\n",
              "0         0       537\n",
              "          1         9\n",
              "          2         2\n",
              "          3         1\n",
              "1         0       307\n",
              "          1        27\n",
              "          2         5\n",
              "          4         2\n",
              "          3         1\n",
              "Name: is_B, dtype: int64"
            ]
          },
          "metadata": {
            "tags": []
          },
          "execution_count": 47
        }
      ]
    },
    {
      "cell_type": "code",
      "metadata": {
        "id": "tJJBuaHCkZoY",
        "colab_type": "code",
        "colab": {}
      },
      "source": [
        "train.is_C = train.is_C.map({0: 0, 1: 1, 2: 1, 3: 1})\n",
        "test.is_C = test.is_C.map({0: 0, 1: 1, 2: 1, 3: 1})\n",
        "\n",
        "#train.is_B = train.is_B.map({0: 0, 1: 1, 2: 1, 3: 1, 4: 1})\n",
        "#test.is_B = test.is_B.map({0: 0, 1: 1, 2: 1, 3: 1, 4: 1})\n"
      ],
      "execution_count": 0,
      "outputs": []
    },
    {
      "cell_type": "markdown",
      "metadata": {
        "id": "1OktJ6fykZoe",
        "colab_type": "text"
      },
      "source": [
        "возможно имеет смысл дискретизировать возраст и цену билета и подумать о данных их Ticket"
      ]
    },
    {
      "cell_type": "code",
      "metadata": {
        "id": "Imm6T8uwkZoe",
        "colab_type": "code",
        "colab": {}
      },
      "source": [
        "feats = [col for col in train.columns if col not in ('PassengerId', 'Survived', 'Name', 'Cabin', 'Ticket', \n",
        "                                                     'ticket_prefix', 'ticket_number')] \n",
        "\n",
        "feats_encode = ['Pclass', 'Embarked', 'status_person']\n",
        "\n",
        "class Encoding(BaseEstimator, TransformerMixin):\n",
        "    \"\"\"\n",
        "    One-hot и Label encoding для Pipeline\n",
        "    \"\"\"\n",
        "    def transform(self, X, y = None, **fit_params):\n",
        "        cats = map(lambda x: [x[1] + '_' + str(ob) for ob in x[0]], zip(self.one_hot.categories_, feats_encode))\n",
        "        columns = functools.reduce(lambda x, y: x + y, cats)\n",
        "        cats_frame = pd.DataFrame(self.one_hot.transform(X[feats_encode]), \n",
        "                                  columns = columns, index = X.index)\n",
        "        return pd.concat([X.drop('status_person', axis = 1), cats_frame], axis = 1)\n",
        "    \n",
        "    def fit_transform(self, X, y = None, **fit_params):\n",
        "        self.fit(X)\n",
        "        return self.transform(X)\n",
        "                                  \n",
        "    def fit(self, X, y = None, **fit_params):\n",
        "        self.one_hot = OneHotEncoder(sparse = False)\n",
        "        self.one_hot.fit(X[feats_encode])\n",
        "        return self"
      ],
      "execution_count": 0,
      "outputs": []
    },
    {
      "cell_type": "code",
      "metadata": {
        "id": "mGMiwdsAkZpz",
        "colab_type": "code",
        "colab": {
          "base_uri": "https://localhost:8080/",
          "height": 237
        },
        "outputId": "01d624c8-0b64-4628-bbb9-35a4c1f88fed"
      },
      "source": [
        "\n",
        "from tensorflow.keras.layers import Input, Dense, Dropout\n",
        "from tensorflow.keras.models import Model, Sequential\n",
        "from sklearn.base import BaseEstimator, TransformerMixin, ClassifierMixin\n",
        "from tensorflow.keras.utils import to_categorical\n",
        "import tensorflow as tf\n",
        "from sklearn.preprocessing import Normalizer\n",
        "import tensorflow.keras.backend as K\n",
        "\n",
        "\n",
        "seed = 45\n",
        "n_splits = 3\n",
        "\n",
        "kf = KFold(n_splits = n_splits, random_state = seed)\n",
        "\n",
        "\n",
        "class NeuralNetworkClassifier(BaseEstimator, ClassifierMixin):\n",
        "    def __init__(self, epochs:int = 1, batch: str = 1, \n",
        "                 n_layers: int = 1, n_classes: int = 2, \n",
        "                 size_layers: list = [20], verbose = 0):\n",
        "        self.verbose = verbose\n",
        "        self.n_layers = n_layers\n",
        "        self.n_classes = n_classes\n",
        "        self.size_layers = size_layers\n",
        "        self.batch = batch\n",
        "        self.epochs = epochs\n",
        "    \n",
        "    def builder(self, input_shape):\n",
        "        #session_conf = tf.compat.v1.ConfigProto(intra_op_parallelism_threads = 1, inter_op_parallelism_threads = 1)\n",
        "        #sess = tf.compat.v1.Session(graph = tf.compat.v1.get_default_graph(), config = session_conf)\n",
        "        #tf.compat.v1.set_session(sess)\n",
        "        model = Sequential()\n",
        "        model.add(Dense(self.size_layers[0], activation = 'relu', input_dim = input_shape))\n",
        "        model.add(Dropout(0.5))\n",
        "        if self.n_layers > 1:\n",
        "            for i in range(1, self.n_layers):\n",
        "                model.add(Dense(self.size_layers[i], activation = 'relu'))\n",
        "                model.add(Dropout(0.5))\n",
        "        model.add(Dense(self.n_classes, activation = 'sigmoid'))\n",
        "        return model \n",
        "        \n",
        "    def fit(self, X, y = None):\n",
        "        if self.verbose > 0:\n",
        "          print(f'epochs: {self.epochs} batch: {self.batch}, n_layers: {self.n_layers}, size_layers: {self.size_layers}')\n",
        "        if y is not None:\n",
        "            y = to_categorical(y, num_classes = len(y.unique()))\n",
        "        self.model = self.builder(X.shape[1])\n",
        "        self.model.compile(optimizer = 'sgd', loss = 'binary_crossentropy', metrics = ['accuracy'])\n",
        "        self.model.fit(X, y, batch_size = self.batch, epochs = self.epochs, verbose = 0)\n",
        "        return self\n",
        "    \n",
        "    def predict(self, X):\n",
        "        return np.argmax(self.predict_proba(X), axis = 1)\n",
        "    \n",
        "    def predict_proba(self, X):\n",
        "        return self.model.predict(X) \n",
        "\n",
        "parametrs_nn = [\n",
        "    {\n",
        "    'clf__epochs': list(range(30, 80, 10)),\n",
        "    'clf__batch': list(range(1, 10)),\n",
        "    'clf__size_layers': [[20], [30], [40]],\n",
        "    'clf__n_layers': [1]\n",
        "     },\n",
        "     {\n",
        "    'clf__epochs': list(range(30, 80, 10)),\n",
        "    'clf__batch': list(range(1, 10)),\n",
        "    'clf__size_layers': [[20, 10], [30, 20], [40, 30]],\n",
        "    'clf__n_layers': [2]\n",
        "     }\n",
        "]   \n",
        "    \n",
        "parametrs_nn = {  #параметры найденный жадным поиском(требует большего уточнения)\n",
        "    'clf__batch': [1],\n",
        "    'clf__epochs': [5],\n",
        "    'clf__size_layers': [[30, 20]]\n",
        "}       \n",
        "\n",
        "pipeline = Pipeline([\n",
        "                    ('transform', Encoding()), \n",
        "                     ('norm', Normalizer()),\n",
        "                    ('clf', NeuralNetworkClassifier(n_layers = 1, n_classes = 2))\n",
        "        ])\n",
        "    \n",
        "grid_cv = GridSearchCV(pipeline, parametrs_nn, scoring = 'accuracy', cv = kf, verbose = 1, error_score = 'raise')\n",
        "grid_cv.fit(X_train, Y_train)  \n",
        "print(f'best score: {grid_cv.best_score_}')\n",
        "grid_cv.best_estimator_"
      ],
      "execution_count": 102,
      "outputs": [
        {
          "output_type": "stream",
          "text": [
            "Fitting 3 folds for each of 270 candidates, totalling 810 fits\n"
          ],
          "name": "stdout"
        },
        {
          "output_type": "stream",
          "text": [
            "[Parallel(n_jobs=1)]: Using backend SequentialBackend with 1 concurrent workers.\n",
            "[Parallel(n_jobs=1)]: Done 810 out of 810 | elapsed: 66.5min finished\n"
          ],
          "name": "stderr"
        },
        {
          "output_type": "stream",
          "text": [
            "best score: 0.7110352409265452\n"
          ],
          "name": "stdout"
        },
        {
          "output_type": "execute_result",
          "data": {
            "text/plain": [
              "Pipeline(memory=None,\n",
              "         steps=[('transform', Encoding()),\n",
              "                ('norm', Normalizer(copy=True, norm='l2')),\n",
              "                ('clf',\n",
              "                 NeuralNetworkClassifier(batch=1, epochs=50, n_classes=2,\n",
              "                                         n_layers=2, size_layers=[30, 20],\n",
              "                                         verbose=0))],\n",
              "         verbose=False)"
            ]
          },
          "metadata": {
            "tags": []
          },
          "execution_count": 102
        }
      ]
    },
    {
      "cell_type": "code",
      "metadata": {
        "id": "4eNAkAjEkZqA",
        "colab_type": "code",
        "colab": {
          "base_uri": "https://localhost:8080/",
          "height": 193
        },
        "outputId": "98687306-7abf-4a01-b2a4-363f6f4ee4ec"
      },
      "source": [
        "print(f'acc: {grid_cv.best_estimator_.score(X_test, Y_test)}')\n",
        "pd.DataFrame(classification_report(Y_test, grid_cv.best_estimator_.predict(X_test), output_dict = True))"
      ],
      "execution_count": 104,
      "outputs": [
        {
          "output_type": "stream",
          "text": [
            "acc: 0.6865671641791045\n"
          ],
          "name": "stdout"
        },
        {
          "output_type": "execute_result",
          "data": {
            "text/html": [
              "<div>\n",
              "<style scoped>\n",
              "    .dataframe tbody tr th:only-of-type {\n",
              "        vertical-align: middle;\n",
              "    }\n",
              "\n",
              "    .dataframe tbody tr th {\n",
              "        vertical-align: top;\n",
              "    }\n",
              "\n",
              "    .dataframe thead th {\n",
              "        text-align: right;\n",
              "    }\n",
              "</style>\n",
              "<table border=\"1\" class=\"dataframe\">\n",
              "  <thead>\n",
              "    <tr style=\"text-align: right;\">\n",
              "      <th></th>\n",
              "      <th>0</th>\n",
              "      <th>1</th>\n",
              "      <th>accuracy</th>\n",
              "      <th>macro avg</th>\n",
              "      <th>weighted avg</th>\n",
              "    </tr>\n",
              "  </thead>\n",
              "  <tbody>\n",
              "    <tr>\n",
              "      <th>precision</th>\n",
              "      <td>0.752688</td>\n",
              "      <td>0.536585</td>\n",
              "      <td>0.686567</td>\n",
              "      <td>0.644637</td>\n",
              "      <td>0.680116</td>\n",
              "    </tr>\n",
              "    <tr>\n",
              "      <th>recall</th>\n",
              "      <td>0.786517</td>\n",
              "      <td>0.488889</td>\n",
              "      <td>0.686567</td>\n",
              "      <td>0.637703</td>\n",
              "      <td>0.686567</td>\n",
              "    </tr>\n",
              "    <tr>\n",
              "      <th>f1-score</th>\n",
              "      <td>0.769231</td>\n",
              "      <td>0.511628</td>\n",
              "      <td>0.686567</td>\n",
              "      <td>0.640429</td>\n",
              "      <td>0.682722</td>\n",
              "    </tr>\n",
              "    <tr>\n",
              "      <th>support</th>\n",
              "      <td>178.000000</td>\n",
              "      <td>90.000000</td>\n",
              "      <td>0.686567</td>\n",
              "      <td>268.000000</td>\n",
              "      <td>268.000000</td>\n",
              "    </tr>\n",
              "  </tbody>\n",
              "</table>\n",
              "</div>"
            ],
            "text/plain": [
              "                    0          1  accuracy   macro avg  weighted avg\n",
              "precision    0.752688   0.536585  0.686567    0.644637      0.680116\n",
              "recall       0.786517   0.488889  0.686567    0.637703      0.686567\n",
              "f1-score     0.769231   0.511628  0.686567    0.640429      0.682722\n",
              "support    178.000000  90.000000  0.686567  268.000000    268.000000"
            ]
          },
          "metadata": {
            "tags": []
          },
          "execution_count": 104
        }
      ]
    },
    {
      "cell_type": "code",
      "metadata": {
        "id": "dwHIVsw8rmyP",
        "colab_type": "code",
        "colab": {}
      },
      "source": [
        ""
      ],
      "execution_count": 0,
      "outputs": []
    }
  ]
}